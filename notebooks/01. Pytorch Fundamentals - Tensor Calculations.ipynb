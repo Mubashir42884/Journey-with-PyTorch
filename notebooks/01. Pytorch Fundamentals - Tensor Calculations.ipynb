{
 "cells": [
  {
   "cell_type": "markdown",
   "metadata": {},
   "source": [
    "# Tensor Calculations\n",
    "\n",
    "### **Topics to be covered:**\n",
    "- Tensor Manipulation\n",
    "- Tensor Arithmatics\n",
    "- Tensor Linear Algebra </br>\n",
    "    |__ Matrix Multiplication </br>\n",
    "    |__ Dot Product </br>\n",
    "    |__ Transpose </br>\n",
    "    |__ Inverse and Determinant </br>\n",
    "    |__ Eigenvalues & Eigenvectors </br>\n",
    "    |__ Norms (L1 & L2) </br>"
   ]
  },
  {
   "cell_type": "markdown",
   "metadata": {},
   "source": [
    "#### TENSOR MANIPULATION"
   ]
  },
  {
   "cell_type": "code",
   "execution_count": 1,
   "metadata": {},
   "outputs": [],
   "source": [
    "import torch\n",
    "import numpy as np\n",
    "import pandas as pd"
   ]
  },
  {
   "cell_type": "code",
   "execution_count": 2,
   "metadata": {},
   "outputs": [
    {
     "name": "stdout",
     "output_type": "stream",
     "text": [
      "List Data:\n",
      "[[1, 2], [3, 4]]\n",
      "\n",
      "Tensor Data:\n",
      "tensor([[1, 2],\n",
      "        [3, 4]])\n"
     ]
    }
   ],
   "source": [
    "# Tensor Manipulation - Lists\n",
    "\n",
    "# List to Tensor\n",
    "list_data = [[1, 2], [3, 4]]\n",
    "tensor = torch.tensor(list_data)\n",
    "print(f\"List Data:\\n{list_data}\\n\")\n",
    "print(f\"Tensor Data:\\n{tensor}\")"
   ]
  },
  {
   "cell_type": "code",
   "execution_count": 3,
   "metadata": {},
   "outputs": [
    {
     "name": "stdout",
     "output_type": "stream",
     "text": [
      "Tensor Data:\n",
      "tensor([[0.8449, 0.8508],\n",
      "        [0.4930, 0.3893]])\n",
      "\n",
      "List Data:\n",
      "[[0.8449119329452515, 0.8508446216583252], [0.49297523498535156, 0.38927632570266724]]\n"
     ]
    }
   ],
   "source": [
    "# Tensor to List\n",
    "tensor = torch.rand(2,2)\n",
    "list_data = tensor.tolist()\n",
    "print(f\"Tensor Data:\\n{tensor}\\n\")\n",
    "print(f\"List Data:\\n{list_data}\")"
   ]
  },
  {
   "cell_type": "code",
   "execution_count": 4,
   "metadata": {},
   "outputs": [
    {
     "name": "stdout",
     "output_type": "stream",
     "text": [
      "Tensor Data:\n",
      "tensor([[0.3633, 0.1565, 0.9840, 0.6807],\n",
      "        [0.0753, 0.3227, 0.3958, 0.3613],\n",
      "        [0.4374, 0.3876, 0.7127, 0.3918]])\n",
      "\n",
      "Dataframe Data:\n",
      "          0         1         2         3\n",
      "0  0.363299  0.156463  0.984049  0.680692\n",
      "1  0.075331  0.322670  0.395755  0.361319\n",
      "2  0.437434  0.387601  0.712728  0.391801\n"
     ]
    }
   ],
   "source": [
    "# Tensor Manipulation - Dataframes\n",
    "\n",
    "# Tensor to Dataframe\n",
    "tensor =  torch.rand(3,4)\n",
    "df = pd.DataFrame(tensor.numpy())\n",
    "\n",
    "print(f\"Tensor Data:\\n{tensor}\\n\")\n",
    "print(f\"Dataframe Data:\\n{df}\")"
   ]
  },
  {
   "cell_type": "code",
   "execution_count": 5,
   "metadata": {},
   "outputs": [
    {
     "name": "stdout",
     "output_type": "stream",
     "text": [
      "Dataframe Data:\n",
      "          0         1         2         3\n",
      "0  0.852245  0.463974  0.944048  0.349847\n",
      "1  0.087060  0.210319  0.886866  0.925650\n",
      "2  0.196148  0.927647  0.216891  0.354692\n",
      "\n",
      "Tensor Data:\n",
      "tensor([[0.8522, 0.4640, 0.9440, 0.3498],\n",
      "        [0.0871, 0.2103, 0.8869, 0.9256],\n",
      "        [0.1961, 0.9276, 0.2169, 0.3547]], dtype=torch.float64)\n"
     ]
    }
   ],
   "source": [
    "# Dataframe to Tensor\n",
    "df = pd.DataFrame(np.random.rand(3,4))\n",
    "tensor = torch.tensor(df.values)\n",
    "\n",
    "print(f\"Dataframe Data:\\n{df}\\n\")\n",
    "print(f\"Tensor Data:\\n{tensor}\")"
   ]
  },
  {
   "cell_type": "code",
   "execution_count": 6,
   "metadata": {},
   "outputs": [
    {
     "name": "stdout",
     "output_type": "stream",
     "text": [
      "Tensor Data:\n",
      "tensor([[0.2406, 0.4645, 0.0242, 0.5214],\n",
      "        [0.1784, 0.9541, 0.5958, 0.8028],\n",
      "        [0.1910, 0.5012, 0.3807, 0.5303]])\n",
      "\n",
      "NumPy Data:\n",
      "[[0.24055028 0.4644645  0.02418399 0.52137375]\n",
      " [0.17838156 0.95411336 0.5958127  0.8028435 ]\n",
      " [0.19095814 0.5011712  0.3806517  0.5303484 ]]\n"
     ]
    }
   ],
   "source": [
    "# Tensor Manipulation - Numpy\n",
    "\n",
    "# Tensor to Numpy\n",
    "tensor = torch.rand(3,4)\n",
    "np_data = tensor.numpy()\n",
    "\n",
    "print(f\"Tensor Data:\\n{tensor}\\n\")\n",
    "print(f\"NumPy Data:\\n{np_data}\")"
   ]
  },
  {
   "cell_type": "code",
   "execution_count": 7,
   "metadata": {},
   "outputs": [
    {
     "name": "stdout",
     "output_type": "stream",
     "text": [
      "NumPy Data:\n",
      "[[0.50861989 0.68808336 0.89901478 0.25372789]\n",
      " [0.41099555 0.35407704 0.59739032 0.09282974]\n",
      " [0.38882186 0.74619994 0.34778961 0.3354173 ]]\n",
      "\n",
      "Tensor Data:\n",
      "tensor([[0.5086, 0.6881, 0.8990, 0.2537],\n",
      "        [0.4110, 0.3541, 0.5974, 0.0928],\n",
      "        [0.3888, 0.7462, 0.3478, 0.3354]], dtype=torch.float64)\n"
     ]
    }
   ],
   "source": [
    "# Numpy to Tensor\n",
    "np_data = np.random.rand(3,4)\n",
    "tensor = torch.tensor(np_data)\n",
    "\n",
    "print(f\"NumPy Data:\\n{np_data}\\n\")\n",
    "print(f\"Tensor Data:\\n{tensor}\")"
   ]
  },
  {
   "cell_type": "markdown",
   "metadata": {},
   "source": [
    "#### TENSOR ARITHMATICS"
   ]
  },
  {
   "cell_type": "code",
   "execution_count": 8,
   "metadata": {},
   "outputs": [
    {
     "data": {
      "text/plain": [
       "tensor([102, 105, 103])"
      ]
     },
     "execution_count": 8,
     "metadata": {},
     "output_type": "execute_result"
    }
   ],
   "source": [
    "# Addition\n",
    "\n",
    "tensor = torch.tensor([2,5,3])\n",
    "tensor+100"
   ]
  },
  {
   "cell_type": "code",
   "execution_count": 9,
   "metadata": {},
   "outputs": [
    {
     "data": {
      "text/plain": [
       "tensor([10, 25, 15])"
      ]
     },
     "execution_count": 9,
     "metadata": {},
     "output_type": "execute_result"
    }
   ],
   "source": [
    "# Multiplication\n",
    "\n",
    "tensor = tensor * 5\n",
    "tensor"
   ]
  },
  {
   "cell_type": "code",
   "execution_count": 10,
   "metadata": {},
   "outputs": [
    {
     "data": {
      "text/plain": [
       "tensor([-40, -25, -35])"
      ]
     },
     "execution_count": 10,
     "metadata": {},
     "output_type": "execute_result"
    }
   ],
   "source": [
    "# Subtraction\n",
    "\n",
    "tensor = tensor - 50\n",
    "tensor"
   ]
  },
  {
   "cell_type": "code",
   "execution_count": 11,
   "metadata": {},
   "outputs": [
    {
     "data": {
      "text/plain": [
       "tensor([-2.0000, -1.2500, -1.7500])"
      ]
     },
     "execution_count": 11,
     "metadata": {},
     "output_type": "execute_result"
    }
   ],
   "source": [
    "# Division\n",
    "\n",
    "tensor = tensor / 20\n",
    "tensor"
   ]
  },
  {
   "cell_type": "code",
   "execution_count": 12,
   "metadata": {},
   "outputs": [
    {
     "name": "stdout",
     "output_type": "stream",
     "text": [
      "In-build Multiplication:\n",
      "tensor([30, 75, 45])\n",
      "\n",
      "In-build Addition:\n",
      "tensor([130, 175, 145])\n",
      "\n",
      "In-build Subtraction:\n",
      "tensor([ 80, 125,  95])\n",
      "\n",
      "In-build Division:\n",
      "tensor([4.0000, 6.2500, 4.7500])\n"
     ]
    }
   ],
   "source": [
    "# PyTorch In-build\n",
    "\n",
    "tensor = torch.tensor([2,5,3])\n",
    "\n",
    "tensor = torch.mul(tensor, 15)\n",
    "print(f\"In-build Multiplication:\\n{tensor}\")\n",
    "tensor = torch.add(tensor, 100)\n",
    "print(f\"\\nIn-build Addition:\\n{tensor}\")\n",
    "tensor = torch.sub(tensor, 50)\n",
    "print(f\"\\nIn-build Subtraction:\\n{tensor}\")\n",
    "tensor = torch.div(tensor, 20)\n",
    "print(f\"\\nIn-build Division:\\n{tensor}\")"
   ]
  },
  {
   "cell_type": "code",
   "execution_count": null,
   "metadata": {},
   "outputs": [],
   "source": []
  }
 ],
 "metadata": {
  "kernelspec": {
   "display_name": "NLP GPU",
   "language": "python",
   "name": "nlp"
  },
  "language_info": {
   "codemirror_mode": {
    "name": "ipython",
    "version": 3
   },
   "file_extension": ".py",
   "mimetype": "text/x-python",
   "name": "python",
   "nbconvert_exporter": "python",
   "pygments_lexer": "ipython3",
   "version": "3.9.20"
  }
 },
 "nbformat": 4,
 "nbformat_minor": 2
}
