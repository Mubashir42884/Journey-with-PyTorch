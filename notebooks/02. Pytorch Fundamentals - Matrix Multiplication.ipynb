{
 "cells": [
  {
   "cell_type": "markdown",
   "metadata": {},
   "source": [
    "## Matrix Multiplication\n",
    "1. Element-wise Multiplication (a.k.a Hadamard Product)\n",
    "2. Matrix Multiplication"
   ]
  },
  {
   "cell_type": "code",
   "execution_count": 10,
   "metadata": {},
   "outputs": [],
   "source": [
    "import torch\n",
    "import numpy as np\n",
    "import pandas as pd"
   ]
  },
  {
   "cell_type": "markdown",
   "metadata": {},
   "source": [
    "#### Simple element-wise multiplication or, Hadamard product\n",
    "\n",
    "<img src=\"../resources/Hadamard_Product.jpg\" width=70%></img>"
   ]
  },
  {
   "cell_type": "code",
   "execution_count": 11,
   "metadata": {},
   "outputs": [
    {
     "name": "stdout",
     "output_type": "stream",
     "text": [
      "tensor([2, 4, 6]) * tensor([1, 3, 5])\n",
      "Equals:\ttensor([ 2, 12, 30])\n"
     ]
    }
   ],
   "source": [
    "a = torch.tensor([2,4,6])\n",
    "b = torch.tensor([1,3,5])\n",
    "\n",
    "print(a,\"*\", b)\n",
    "print(f\"Equals:\\t{a*b}\")"
   ]
  },
  {
   "cell_type": "code",
   "execution_count": 12,
   "metadata": {},
   "outputs": [
    {
     "name": "stdout",
     "output_type": "stream",
     "text": [
      "Matrix A * Matrix B =\n",
      "tensor([[2, 4, 6],\n",
      "        [1, 3, 5],\n",
      "        [7, 8, 9]])\n",
      "tensor([[1, 3, 5],\n",
      "        [6, 7, 8],\n",
      "        [2, 4, 9]])\n",
      "Equals =\n",
      "tensor([[ 2, 12, 30],\n",
      "        [ 6, 21, 40],\n",
      "        [14, 32, 81]])\n"
     ]
    }
   ],
   "source": [
    "list_a = [2,4,6],[1,3,5],[7,8,9]\n",
    "list_b = [1,3,5],[6,7,8],[2,4,9]\n",
    "\n",
    "a = torch.tensor(list_a)\n",
    "b = torch.tensor(list_b)\n",
    "\n",
    "print(f\"Matrix A * Matrix B =\\n{a}\\n{b}\")\n",
    "print(f\"Equals =\\n{a*b}\")"
   ]
  },
  {
   "cell_type": "markdown",
   "metadata": {},
   "source": [
    "### Matrix Multiplication\n",
    "\n",
    "<img src=\"../resources/Matrix_Multiplication.gif\" width=40%></img>"
   ]
  },
  {
   "cell_type": "code",
   "execution_count": 13,
   "metadata": {},
   "outputs": [
    {
     "name": "stdout",
     "output_type": "stream",
     "text": [
      "Matrix A ⠐ Matrix B =\n",
      "tensor([[1, 2, 3],\n",
      "        [4, 5, 6]])\n",
      "tensor([[ 7,  8],\n",
      "        [ 9, 10],\n",
      "        [11, 12]])\n",
      "Equals =\n",
      "tensor([[ 58,  64],\n",
      "        [139, 154]])\n"
     ]
    }
   ],
   "source": [
    "mat_a = [1,2,3],[4,5,6]\n",
    "mat_b = [7,8],[9,10],[11,12]\n",
    "\n",
    "a = torch.tensor(mat_a)\n",
    "b = torch.tensor(mat_b)\n",
    "\n",
    "print(f\"Matrix A ⠐ Matrix B =\\n{a}\\n{b}\")\n",
    "print(f\"Equals =\\n{torch.matmul(a,b)}\")"
   ]
  },
  {
   "cell_type": "markdown",
   "metadata": {},
   "source": [
    "<b>Matrix multiplication can be done with loops. But the torch version of matrix multiplication is more time, complexity and space efficient. <br/> Let's have a look on how it works...</b>"
   ]
  },
  {
   "cell_type": "code",
   "execution_count": 14,
   "metadata": {},
   "outputs": [
    {
     "name": "stdout",
     "output_type": "stream",
     "text": [
      "Equals =\n",
      "[ [ 58,  64]\n",
      "  [139, 154] ]\n",
      "\n",
      "\n"
     ]
    }
   ],
   "source": [
    "# Matrix calculation by hand\n",
    "\n",
    "c00 = a[0,0]*b[0,0] + a[0,1]*b[1,0] + a[0,2]*b[2,0]\n",
    "c01 = a[0,0]*b[0,1] + a[0,1]*b[1,1] + a[0,2]*b[2,1]\n",
    "c10 = a[1,0]*b[0,0] + a[1,1]*b[1,0] + a[1,2]*b[2,0]\n",
    "c11 = a[1,0]*b[0,1] + a[1,1]*b[1,1] + a[1,2]*b[2,1]\n",
    "\n",
    "print(f\"Equals =\\n[ [ {c00},  {c01}]\\n  [{c10}, {c11}] ]\\n\\n\")"
   ]
  },
  {
   "cell_type": "code",
   "execution_count": 15,
   "metadata": {},
   "outputs": [
    {
     "name": "stdout",
     "output_type": "stream",
     "text": [
      "===== Matrix Multiplication with `for` loops =====\n",
      "\n",
      "Matrix A ⠐ Matrix B =\n",
      "tensor([[1, 2, 3],\n",
      "        [4, 5, 6]])⠐\n",
      "tensor([[ 7,  8],\n",
      "        [ 9, 10],\n",
      "        [11, 12]])\n",
      "Equals:\n",
      "[tensor(58), tensor(64)],\n",
      "[tensor(139), tensor(154)]\n",
      "\n",
      "\n",
      "CPU times: total: 0 ns\n",
      "Wall time: 3 ms\n"
     ]
    }
   ],
   "source": [
    "%%time\n",
    "# Initialize result matrix with zeros\n",
    "result = [[0 for _ in range(len(b[0]))] for _ in range(len(a))]\n",
    "\n",
    "# Perform matrix multiplication\n",
    "for i in range(len(a)):\n",
    "    for j in range(len(b[0])):\n",
    "        for k in range(len(b)):\n",
    "            result[i][j] += a[i][k] * b[k][j]\n",
    "print(\"===== Matrix Multiplication with `for` loops =====\\n\")\n",
    "print(f\"Matrix A ⠐ Matrix B =\\n{a}⠐\\n{b}\")\n",
    "print(f\"Equals:\\n{result[0]},\\n{result[1]}\\n\\n\")"
   ]
  },
  {
   "cell_type": "code",
   "execution_count": 16,
   "metadata": {},
   "outputs": [
    {
     "name": "stdout",
     "output_type": "stream",
     "text": [
      "===== Matrix Multiplication with torch =====\n",
      "\n",
      "Matrix A ⠐ Matrix B =\n",
      "tensor([[1, 2, 3],\n",
      "        [4, 5, 6]])⠐\n",
      "tensor([[ 7,  8],\n",
      "        [ 9, 10],\n",
      "        [11, 12]])\n",
      "Equals:\n",
      "tensor([[ 58,  64],\n",
      "        [139, 154]])\n",
      "\n",
      "\n",
      "CPU times: total: 0 ns\n",
      "Wall time: 996 µs\n"
     ]
    }
   ],
   "source": [
    "%%time\n",
    "print(\"===== Matrix Multiplication with torch =====\\n\")\n",
    "print(f\"Matrix A ⠐ Matrix B =\\n{a}⠐\\n{b}\")\n",
    "print(f\"Equals:\\n{torch.matmul(a,b)}\\n\\n\")"
   ]
  },
  {
   "cell_type": "markdown",
   "metadata": {},
   "source": []
  },
  {
   "cell_type": "markdown",
   "metadata": {},
   "source": [
    "<b>\n",
    "As we can see, the wall time of Matrix multiplication with for loops is greater than the wall time of Matrix multiplication with torch function `matmul`.<br/>\n",
    "</b>\n",
    "\n",
    "```\n",
    "3 ms > 996 µs\n",
    "```"
   ]
  },
  {
   "cell_type": "markdown",
   "metadata": {},
   "source": [
    "#### ! IMPORTANT: RULES OF PERFORMING MATRIX MULTIPLICATION\n",
    "There are 2 main rules that performing matrix multiplication needs to satisfy:\n",
    "1. The **inner dimensions** must match:\n",
    "    * `(3, 2) @ (3, 2)` won't work\n",
    "    * `(3, 3) @ (3, 1)` will work\n",
    "    * `(2, 3) @ (3, 3)` will work\n",
    "    * `(2, 2) @ (3, 3)` won't work\n",
    "\n",
    "2. The resulting matrix has the shape of the **outer dimensions**:\n",
    "    * `(3, 3) @ (3, 1)` resulting shape --> (3, 1)\n",
    "    * `(2, 3) @ (3, 3)` resulting shape --> (2, 3)\n",
    "    * `(1, 3) @ (3, 2)` resulting shape --> (1, 2)"
   ]
  },
  {
   "cell_type": "markdown",
   "metadata": {},
   "source": [
    "### Common Errors in Deep Learning\n",
    "* Shape Error/ Shape Mismatch"
   ]
  },
  {
   "cell_type": "code",
   "execution_count": 17,
   "metadata": {},
   "outputs": [],
   "source": [
    " # Shapes for Matrix Multiplication\n",
    "\n",
    "tensor_A = torch.tensor([[2, 4],\n",
    "                         [6, 1],\n",
    "                         [3, 9]])  # 3x2 matrix\n",
    "\n",
    "tensor_B = torch.tensor([[-1, 8],\n",
    "                         [4, 0],\n",
    "                         [3, -5]]) # 3x2 matrix"
   ]
  },
  {
   "cell_type": "code",
   "execution_count": 18,
   "metadata": {},
   "outputs": [
    {
     "ename": "RuntimeError",
     "evalue": "mat1 and mat2 shapes cannot be multiplied (3x2 and 3x2)",
     "output_type": "error",
     "traceback": [
      "\u001b[1;31m---------------------------------------------------------------------------\u001b[0m",
      "\u001b[1;31mRuntimeError\u001b[0m                              Traceback (most recent call last)",
      "Cell \u001b[1;32mIn[18], line 2\u001b[0m\n\u001b[0;32m      1\u001b[0m \u001b[38;5;66;03m# torch.mm() is an alias of torch.matmul()\u001b[39;00m\n\u001b[1;32m----> 2\u001b[0m matmul \u001b[38;5;241m=\u001b[39m \u001b[43mtorch\u001b[49m\u001b[38;5;241;43m.\u001b[39;49m\u001b[43mmm\u001b[49m\u001b[43m(\u001b[49m\u001b[43mtensor_A\u001b[49m\u001b[43m,\u001b[49m\u001b[43m \u001b[49m\u001b[43mtensor_B\u001b[49m\u001b[43m)\u001b[49m\n",
      "\u001b[1;31mRuntimeError\u001b[0m: mat1 and mat2 shapes cannot be multiplied (3x2 and 3x2)"
     ]
    }
   ],
   "source": [
    "# torch.mm() is an alias of torch.matmul()\n",
    "matmul = torch.mm(tensor_A, tensor_B) # There will be shape error"
   ]
  },
  {
   "cell_type": "code",
   "execution_count": 24,
   "metadata": {},
   "outputs": [
    {
     "name": "stdout",
     "output_type": "stream",
     "text": [
      "(Tensor_A Shape, Tensor_B Shape) = (torch.Size([3, 2]), torch.Size([3, 2]))\n"
     ]
    }
   ],
   "source": [
    "# Let's see the reason behind the error\n",
    "print(f\"(Tensor_A Shape, Tensor_B Shape) = {tensor_A.shape, tensor_B.shape}\")"
   ]
  },
  {
   "cell_type": "code",
   "execution_count": 25,
   "metadata": {},
   "outputs": [
    {
     "name": "stdout",
     "output_type": "stream",
     "text": [
      "tensor_B Transpose:\n",
      "tensor([[-1,  4,  3],\n",
      "        [ 8,  0, -5]])\n",
      "\n",
      "Shape: (2, 3)\n"
     ]
    }
   ],
   "source": [
    "# Let's do transpose of Tensor_B to match inner dimension\n",
    "\n",
    "tensor_Bt = tensor_B.T\n",
    "print(f\"tensor_B Transpose:\\n{tensor_Bt}\\n\")\n",
    "print(f\"Shape: {tensor_Bt.shape[0],tensor_Bt.shape[1]}\")"
   ]
  },
  {
   "cell_type": "code",
   "execution_count": 28,
   "metadata": {},
   "outputs": [
    {
     "name": "stdout",
     "output_type": "stream",
     "text": [
      "(Tensor_A Shape, Tensor_B Transposed Shape) = \n",
      "(torch.Size([3, 2]), torch.Size([2, 3]))\n"
     ]
    }
   ],
   "source": [
    "# Let's see the new shapes\n",
    "print(f\"(Tensor_A Shape, Tensor_B Transposed Shape) = \\n{tensor_A.shape, tensor_Bt.shape}\")"
   ]
  },
  {
   "cell_type": "code",
   "execution_count": 31,
   "metadata": {},
   "outputs": [
    {
     "name": "stdout",
     "output_type": "stream",
     "text": [
      "Matrix Multiplication Output:\n",
      " tensor([[ 30,   8, -14],\n",
      "        [  2,  24,  13],\n",
      "        [ 69,  12, -36]])\n",
      "\n",
      "New Shape of the Output Matrix: (3, 3)\n"
     ]
    }
   ],
   "source": [
    "# Now let's try the matrix multiplication again\n",
    "matmul = torch.mm(tensor_A, tensor_Bt) # inner dimension matched\n",
    "\n",
    "print(f\"Matrix Multiplication Output:\\n {matmul}\")\n",
    "print(f\"\\nNew Shape of the Output Matrix: {matmul.shape[0],matmul.shape[1]}\")"
   ]
  },
  {
   "cell_type": "markdown",
   "metadata": {},
   "source": [
    "##### More Example"
   ]
  },
  {
   "cell_type": "code",
   "execution_count": 41,
   "metadata": {},
   "outputs": [],
   "source": [
    "matA = torch.tensor([[0, 0, 1],\n",
    "                    [1, 1, 0]])\n",
    "\n",
    "matB = torch.tensor([[1, 0],\n",
    "                    [1, 1],\n",
    "                    [0, 1],\n",
    "                    [0, 0]])\n",
    "\n",
    "matC = torch.tensor([[1],\n",
    "                    [0],\n",
    "                    [1],\n",
    "                    [0]])\n",
    "\n",
    "matD = torch.tensor([[0, 0, 0, 1],\n",
    "                    [0, 0, 1, 1],\n",
    "                    [0, 1, 0, 0],\n",
    "                    [1, 1, 0, 0]])"
   ]
  },
  {
   "cell_type": "code",
   "execution_count": 42,
   "metadata": {},
   "outputs": [
    {
     "name": "stdout",
     "output_type": "stream",
     "text": [
      "tensor([[0, 0, 1],\n",
      "        [1, 1, 0]]) torch.Size([2, 3]) \n",
      "\n",
      "tensor([[1, 0],\n",
      "        [1, 1],\n",
      "        [0, 1],\n",
      "        [0, 0]]) torch.Size([4, 2]) \n",
      "\n",
      "tensor([[1],\n",
      "        [0],\n",
      "        [1],\n",
      "        [0]]) torch.Size([4, 1]) \n",
      "\n",
      "tensor([[0, 0, 0, 1],\n",
      "        [0, 0, 1, 1],\n",
      "        [0, 1, 0, 0],\n",
      "        [1, 1, 0, 0]]) torch.Size([4, 4]) \n",
      "\n"
     ]
    }
   ],
   "source": [
    "print(matA, matA.shape,\"\\n\")\n",
    "print(matB, matB.shape,\"\\n\")\n",
    "print(matC, matC.shape,\"\\n\")\n",
    "print(matD, matD.shape,\"\\n\")"
   ]
  },
  {
   "cell_type": "code",
   "execution_count": 43,
   "metadata": {},
   "outputs": [
    {
     "name": "stdout",
     "output_type": "stream",
     "text": [
      "MatA & MatB Transposed Shape: torch.Size([3, 2]) torch.Size([2, 4])\n",
      "\n",
      " tensor([[0, 1, 1, 0],\n",
      "        [0, 1, 1, 0],\n",
      "        [1, 1, 0, 0]]) torch.Size([3, 4])\n"
     ]
    }
   ],
   "source": [
    "print(\"MatA & MatB Transposed Shape:\",matA.T.shape, matB.T.shape)\n",
    "matAt_Bt = torch.mm(matA.T, matB.T)\n",
    "print(\"\\n\",matAt_Bt,matAt_Bt.shape)"
   ]
  },
  {
   "cell_type": "code",
   "execution_count": 44,
   "metadata": {},
   "outputs": [
    {
     "name": "stdout",
     "output_type": "stream",
     "text": [
      "MatC Transposed & MatD Shape: torch.Size([1, 4]) torch.Size([4, 4])\n",
      "\n",
      " tensor([[0, 1, 0, 1]]) torch.Size([1, 4])\n"
     ]
    }
   ],
   "source": [
    "print(\"MatC Transposed & MatD Shape:\",matC.T.shape, matD.shape)\n",
    "matCt_D = torch.mm(matC.T, matD)\n",
    "print(\"\\n\",matCt_D,matCt_D.shape)"
   ]
  },
  {
   "cell_type": "code",
   "execution_count": 45,
   "metadata": {},
   "outputs": [
    {
     "name": "stdout",
     "output_type": "stream",
     "text": [
      "MatAt & MatCt Transposed Shape: torch.Size([3, 4]) torch.Size([4, 1])\n",
      "\n",
      " tensor([[1],\n",
      "        [1],\n",
      "        [1]]) torch.Size([3, 1])\n"
     ]
    }
   ],
   "source": [
    "print(\"MatAt & MatCt Transposed Shape:\",matAt_Bt.shape, matCt_D.T.shape)\n",
    "matE = torch.mm(matAt_Bt, matCt_D.T)\n",
    "print(\"\\n\",matE,matE.shape)"
   ]
  },
  {
   "cell_type": "code",
   "execution_count": 54,
   "metadata": {},
   "outputs": [
    {
     "name": "stdout",
     "output_type": "stream",
     "text": [
      "Transposed Mat_E \t= tensor([[1, 1, 1]])\n",
      "Transposed Mat_E Shape \t= (1, 3)\n"
     ]
    }
   ],
   "source": [
    "# Transpose of MatE\n",
    "print(f\"Transposed Mat_E \\t= {matE.T}\")\n",
    "print(f\"Transposed Mat_E Shape \\t= {matE.T.shape[0],matE.T.shape[1]}\")"
   ]
  },
  {
   "cell_type": "markdown",
   "metadata": {},
   "source": [
    "### <------------------ END OF NOTEBOOK ------------------>\n",
    "#### ==================================== ~`MUBA`~ =="
   ]
  },
  {
   "cell_type": "markdown",
   "metadata": {},
   "source": []
  }
 ],
 "metadata": {
  "kernelspec": {
   "display_name": "Pytorch (CUDA)",
   "language": "python",
   "name": "pytorch"
  },
  "language_info": {
   "codemirror_mode": {
    "name": "ipython",
    "version": 3
   },
   "file_extension": ".py",
   "mimetype": "text/x-python",
   "name": "python",
   "nbconvert_exporter": "python",
   "pygments_lexer": "ipython3",
   "version": "3.9.20"
  }
 },
 "nbformat": 4,
 "nbformat_minor": 2
}
