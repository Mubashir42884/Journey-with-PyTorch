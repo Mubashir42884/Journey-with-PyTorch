{
 "cells": [
  {
   "cell_type": "markdown",
   "metadata": {},
   "source": [
    "## Matrix Multiplication\n",
    "1. Element-wise Multiplication (a.k.a Hadamard Product)\n",
    "2. Matrix Multiplication"
   ]
  },
  {
   "cell_type": "code",
   "execution_count": 2,
   "metadata": {},
   "outputs": [],
   "source": [
    "import torch\n",
    "import numpy as np\n",
    "import pandas as pd"
   ]
  },
  {
   "cell_type": "markdown",
   "metadata": {},
   "source": [
    "#### Simple element-wise multiplication or, Hadamard product\n",
    "\n",
    "<img src=\"../resources/Hadamard_Product.jpg\" width=70%></img>"
   ]
  },
  {
   "cell_type": "code",
   "execution_count": 3,
   "metadata": {},
   "outputs": [
    {
     "name": "stdout",
     "output_type": "stream",
     "text": [
      "tensor([2, 4, 6]) * tensor([1, 3, 5])\n",
      "Equals:\ttensor([ 2, 12, 30])\n"
     ]
    }
   ],
   "source": [
    "a = torch.tensor([2,4,6])\n",
    "b = torch.tensor([1,3,5])\n",
    "\n",
    "print(a,\"*\", b)\n",
    "print(f\"Equals:\\t{a*b}\")"
   ]
  },
  {
   "cell_type": "code",
   "execution_count": 4,
   "metadata": {},
   "outputs": [
    {
     "name": "stdout",
     "output_type": "stream",
     "text": [
      "Matrix A * Matrix B =\n",
      "tensor([[2, 4, 6],\n",
      "        [1, 3, 5],\n",
      "        [7, 8, 9]])\n",
      "tensor([[1, 3, 5],\n",
      "        [6, 7, 8],\n",
      "        [2, 4, 9]])\n",
      "Equals =\n",
      "tensor([[ 2, 12, 30],\n",
      "        [ 6, 21, 40],\n",
      "        [14, 32, 81]])\n"
     ]
    }
   ],
   "source": [
    "list_a = [2,4,6],[1,3,5],[7,8,9]\n",
    "list_b = [1,3,5],[6,7,8],[2,4,9]\n",
    "\n",
    "a = torch.tensor(list_a)\n",
    "b = torch.tensor(list_b)\n",
    "\n",
    "print(f\"Matrix A * Matrix B =\\n{a}\\n{b}\")\n",
    "print(f\"Equals =\\n{a*b}\")"
   ]
  },
  {
   "cell_type": "markdown",
   "metadata": {},
   "source": [
    "### Matrix Multiplication\n",
    "\n",
    "<img src=\"../resources/Matrix_Multiplication.gif\" width=40%></img>"
   ]
  },
  {
   "cell_type": "code",
   "execution_count": 21,
   "metadata": {},
   "outputs": [
    {
     "name": "stdout",
     "output_type": "stream",
     "text": [
      "Matrix A ⠐ Matrix B =\n",
      "tensor([[1, 2, 3],\n",
      "        [4, 5, 6]])\n",
      "tensor([[ 7,  8],\n",
      "        [ 9, 10],\n",
      "        [11, 12]])\n",
      "Equals =\n",
      "tensor([[ 58,  64],\n",
      "        [139, 154]])\n"
     ]
    }
   ],
   "source": [
    "mat_a = [1,2,3],[4,5,6]\n",
    "mat_b = [7,8],[9,10],[11,12]\n",
    "\n",
    "a = torch.tensor(mat_a)\n",
    "b = torch.tensor(mat_b)\n",
    "\n",
    "print(f\"Matrix A ⠐ Matrix B =\\n{a}\\n{b}\")\n",
    "print(f\"Equals =\\n{torch.matmul(a,b)}\")"
   ]
  },
  {
   "cell_type": "markdown",
   "metadata": {},
   "source": [
    "<b>Matrix multiplication can be done with loops. But the torch version of matrix multiplication is more time, complexity and space efficient. <br/> Let's have a look on how it works...</b>"
   ]
  },
  {
   "cell_type": "code",
   "execution_count": 22,
   "metadata": {},
   "outputs": [
    {
     "name": "stdout",
     "output_type": "stream",
     "text": [
      "Equals =\n",
      "[ [ 58,  64]\n",
      "  [139, 154] ]\n",
      "\n",
      "\n"
     ]
    }
   ],
   "source": [
    "# Matrix calculation by hand\n",
    "\n",
    "c00 = a[0,0]*b[0,0] + a[0,1]*b[1,0] + a[0,2]*b[2,0]\n",
    "c01 = a[0,0]*b[0,1] + a[0,1]*b[1,1] + a[0,2]*b[2,1]\n",
    "c10 = a[1,0]*b[0,0] + a[1,1]*b[1,0] + a[1,2]*b[2,0]\n",
    "c11 = a[1,0]*b[0,1] + a[1,1]*b[1,1] + a[1,2]*b[2,1]\n",
    "\n",
    "print(f\"Equals =\\n[ [ {c00},  {c01}]\\n  [{c10}, {c11}] ]\\n\\n\")"
   ]
  },
  {
   "cell_type": "code",
   "execution_count": 23,
   "metadata": {},
   "outputs": [
    {
     "name": "stdout",
     "output_type": "stream",
     "text": [
      "===== Matrix Multiplication with `for` loops =====\n",
      "\n",
      "Matrix A ⠐ Matrix B =\n",
      "tensor([[1, 2, 3],\n",
      "        [4, 5, 6]])⠐\n",
      "tensor([[ 7,  8],\n",
      "        [ 9, 10],\n",
      "        [11, 12]])\n",
      "Equals:\n",
      "[tensor(58), tensor(64)],\n",
      "[tensor(139), tensor(154)]\n",
      "\n",
      "\n",
      "CPU times: total: 0 ns\n",
      "Wall time: 2 ms\n"
     ]
    }
   ],
   "source": [
    "%%time\n",
    "# Initialize result matrix with zeros\n",
    "result = [[0 for _ in range(len(b[0]))] for _ in range(len(a))]\n",
    "\n",
    "# Perform matrix multiplication\n",
    "for i in range(len(a)):\n",
    "    for j in range(len(b[0])):\n",
    "        for k in range(len(b)):\n",
    "            result[i][j] += a[i][k] * b[k][j]\n",
    "print(\"===== Matrix Multiplication with `for` loops =====\\n\")\n",
    "print(f\"Matrix A ⠐ Matrix B =\\n{a}⠐\\n{b}\")\n",
    "print(f\"Equals:\\n{result[0]},\\n{result[1]}\\n\\n\")"
   ]
  },
  {
   "cell_type": "code",
   "execution_count": 24,
   "metadata": {},
   "outputs": [
    {
     "name": "stdout",
     "output_type": "stream",
     "text": [
      "===== Matrix Multiplication with torch =====\n",
      "\n",
      "Matrix A ⠐ Matrix B =\n",
      "tensor([[1, 2, 3],\n",
      "        [4, 5, 6]])⠐\n",
      "tensor([[ 7,  8],\n",
      "        [ 9, 10],\n",
      "        [11, 12]])\n",
      "Equals:\n",
      "tensor([[ 58,  64],\n",
      "        [139, 154]])\n",
      "\n",
      "\n",
      "CPU times: total: 0 ns\n",
      "Wall time: 1 ms\n"
     ]
    }
   ],
   "source": [
    "%%time\n",
    "print(\"===== Matrix Multiplication with torch =====\\n\")\n",
    "print(f\"Matrix A ⠐ Matrix B =\\n{a}⠐\\n{b}\")\n",
    "print(f\"Equals:\\n{torch.matmul(a,b)}\\n\\n\")"
   ]
  },
  {
   "cell_type": "markdown",
   "metadata": {},
   "source": []
  },
  {
   "cell_type": "markdown",
   "metadata": {},
   "source": [
    "<b>\n",
    "As we can see, the wall time of Matrix multiplication with for loops is greater than the wall time of Matrix multiplication with torch function `matmul`.<br/>\n",
    "</b>\n",
    "\n",
    "```\n",
    "2 ms > 998 µs\n",
    "```"
   ]
  }
 ],
 "metadata": {
  "kernelspec": {
   "display_name": "Pytorch (CUDA)",
   "language": "python",
   "name": "pytorch"
  },
  "language_info": {
   "codemirror_mode": {
    "name": "ipython",
    "version": 3
   },
   "file_extension": ".py",
   "mimetype": "text/x-python",
   "name": "python",
   "nbconvert_exporter": "python",
   "pygments_lexer": "ipython3",
   "version": "3.9.20"
  }
 },
 "nbformat": 4,
 "nbformat_minor": 2
}
