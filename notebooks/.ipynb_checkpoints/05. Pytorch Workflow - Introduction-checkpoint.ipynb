{
 "cells": [
  {
   "cell_type": "markdown",
   "id": "fc568f6f",
   "metadata": {},
   "source": [
    "## PYTORCH WORKFLOW - Introduction"
   ]
  },
  {
   "cell_type": "markdown",
   "id": "e0e30710",
   "metadata": {},
   "source": [
    "#### What we will cover?\n",
    "\n",
    "**1. Data Preparation** <br>\n",
    "**2. Build Model (Loss & Optimization)**<br>\n",
    "**3. Fit the Model**<br>\n",
    "**4. Making Predictions and Evaluating Model (Inference)**<br>\n",
    "**5. Saving and Loading Model**<br>\n",
    "**6. Itegration**<br>"
   ]
  },
  {
   "cell_type": "code",
   "execution_count": 1,
   "id": "fed619ac",
   "metadata": {},
   "outputs": [],
   "source": [
    "import torch\n",
    "import matplotlib.pyplot as plt"
   ]
  },
  {
   "cell_type": "code",
   "execution_count": 2,
   "id": "85b3cd13",
   "metadata": {},
   "outputs": [
    {
     "name": "stdout",
     "output_type": "stream",
     "text": [
      "Current PyTorch version for thie Environment\t:2.5.1\n"
     ]
    }
   ],
   "source": [
    "print(f\"Current PyTorch version for thie Environment\\t:{torch.__version__}\")"
   ]
  },
  {
   "cell_type": "markdown",
   "id": "d3532895",
   "metadata": {},
   "source": [
    "### Machine Learning Essentials:\n",
    "\n",
    "1. Data needed in numerical representation\n",
    "2. Model to learn patterns in that numerical representation of data\n",
    "\n",
    "We will start with a simple **Linear Regression** model formula. Which we know as: `Y = wX + b` , where `Y` is the dependent variable, `X` is the explanatory variable, `w` is the slope **(weight)**, and `b` is the y-intercept **(bias)** of the straight line.<br> So let's start with defining these parameters."
   ]
  },
  {
   "cell_type": "code",
   "execution_count": 3,
   "id": "75b9cd0e",
   "metadata": {},
   "outputs": [
    {
     "name": "stdout",
     "output_type": "stream",
     "text": [
      "Input Tensor:\ttensor([[0.0000],\n",
      "        [0.0200],\n",
      "        [0.0400],\n",
      "        [0.0600],\n",
      "        [0.0800],\n",
      "        [0.1000],\n",
      "        [0.1200],\n",
      "        [0.1400],\n",
      "        [0.1600],\n",
      "        [0.1800]]),\n",
      "\n",
      " Output Tensor:\t tensor([[0.4000],\n",
      "        [0.4120],\n",
      "        [0.4240],\n",
      "        [0.4360],\n",
      "        [0.4480],\n",
      "        [0.4600],\n",
      "        [0.4720],\n",
      "        [0.4840],\n",
      "        [0.4960],\n",
      "        [0.5080]])\n"
     ]
    }
   ],
   "source": [
    "# Define the parameters\n",
    "weight = 0.6\n",
    "bias = 0.4\n",
    "\n",
    "# Create some numbers\n",
    "start = 0\n",
    "end = 1\n",
    "step = 0.02\n",
    "X = torch.arange(start, end, step).unsqueeze(dim=1)\n",
    "y =  weight * X + bias\n",
    "\n",
    "print(f\"Input Tensor:\\t{X[:10]},\\n\\n Output Tensor:\\t {y[:10]}\")"
   ]
  },
  {
   "cell_type": "code",
   "execution_count": 4,
   "id": "c1385aca",
   "metadata": {},
   "outputs": [
    {
     "name": "stdout",
     "output_type": "stream",
     "text": [
      "Length of X: 50\n",
      "Length of y: 50\n"
     ]
    }
   ],
   "source": [
    "print(f\"Length of X: {len(X)}\\nLength of y: {len(y)}\")"
   ]
  },
  {
   "cell_type": "code",
   "execution_count": 5,
   "id": "e4285ac3",
   "metadata": {},
   "outputs": [
    {
     "data": {
      "text/plain": [
       "(40, 40, 10, 10)"
      ]
     },
     "execution_count": 5,
     "metadata": {},
     "output_type": "execute_result"
    }
   ],
   "source": [
    "# Splitting Data into Train & Test sets\n",
    "train_split = int(0.8*len(X))\n",
    "X_train, y_train = X[:train_split], y[:train_split]\n",
    "X_test, y_test = X[train_split:], y[train_split:]\n",
    "\n",
    "len(X_train), len(y_train), len(X_test), len(y_test)"
   ]
  },
  {
   "cell_type": "code",
   "execution_count": 6,
   "id": "11b88285",
   "metadata": {},
   "outputs": [
    {
     "data": {
      "image/png": "[encoded data removed]",
      "text/plain": [
       "<Figure size 1200x600 with 1 Axes>"
      ]
     },
     "metadata": {},
     "output_type": "display_data"
    }
   ],
   "source": [
    "# Visualizing the data\n",
    "def plot_pred(train_data=X_train,\n",
    "             train_labels=y_train,\n",
    "             test_data=X_test,\n",
    "             test_labels=y_test,\n",
    "             predictions=None):\n",
    "    \"\"\"\n",
    "    Plots training data, test data and compare predictons\n",
    "    \"\"\"\n",
    "    # Plot the data\n",
    "    plt.figure(figsize=(8,4))\n",
    "    plt.scatter(train_data, train_labels, s=4, label=\"Training Data\")\n",
    "    plt.scatter(test_data, test_labels, s=4, label=\"Test Data\")\n",
    "    \n",
    "    # Plot Predictions\n",
    "    if predictions is not None:\n",
    "        plt.scatter(test_data, predictions, s=4, label=\"Predictions\")\n",
    "    plt.legend(prop={\"size\": 12});\n",
    "    \n",
    "plot_pred()"
   ]
  },
  {
   "cell_type": "markdown",
   "id": "2c7f85ed",
   "metadata": {},
   "source": [
    "### Let's build the Model with PyTorch\n",
    "**What Our model will do?**\n",
    "* Start with random parameters (weight & bias)\n",
    "* Adjust the random parameters to better represent the ideal ground truth values\n",
    "\n",
    "**How does the model Adjust?**\n",
    "* *Gradient Descent*\n",
    "* *Backpropagation*"
   ]
  },
  {
   "cell_type": "code",
   "execution_count": 7,
   "id": "3aa245d7",
   "metadata": {},
   "outputs": [],
   "source": [
    "# nn contains all of PyTorch's building blocks for Neural networks\n",
    "from torch import nn\n",
    "\n",
    "class LinearRegressionModel(nn.Module): # nn.Module is the building bricks of PyTorch\n",
    "    def __init__(self):\n",
    "        super().__init__()\n",
    "        self.weights = nn.Parameter(torch.randn(1,\n",
    "                                               requires_grad=True,\n",
    "                                               dtype=torch.float))\n",
    "        self.bias = nn.Parameter(torch.randn(1,\n",
    "                                            requires_grad=True,\n",
    "                                            dtype=torch.float))\n",
    "        \n",
    "    # Define FORWARD method to do computation in the model\n",
    "    def forward(self, x: torch.Tensor) -> torch.Tensor:\n",
    "        return self.weights * x + self.bias # returns LR formula"
   ]
  },
  {
   "cell_type": "markdown",
   "id": "6f05d8f6",
   "metadata": {},
   "source": [
    "### PyTorch model building Essentials\n",
    "* `torch.nn` --> Contains all of the buildings for computational graphs or, Neural Network\n",
    "* `torch.nn.Module` --> The base class of all Neural Network modules.\n",
    "    * |--> `forward()` method could be overwriten by subclassing the nn module. It requires overwriting the forward computation of the model\n",
    "* `torch.nn.Parameter` --> Defining the parameters hat our model will use to learn.\n",
    "* `torch.optim` --> To define the optimizer for better gradient descent"
   ]
  },
  {
   "cell_type": "code",
   "execution_count": 8,
   "id": "d6879afb",
   "metadata": {},
   "outputs": [],
   "source": [
    "# Create a random seed\n",
    "torch.manual_seed(42)\n",
    "\n",
    "# Create an instance of the module\n",
    "model_0 = LinearRegressionModel()\n",
    "\n",
    "# Checkout the params\n",
    "state_dict = model_0.state_dict()\n",
    "# Extract the tensor values\n",
    "tensor_values = list(state_dict.values())\n",
    "# Assign the tensor values to c and d\n",
    "c, d = tensor_values\n",
    "# Convert the first element of c and d to float and format them\n",
    "a = float(f\"{c[0]:.4f}\")\n",
    "b = float(f\"{d[0]:.4f}\")"
   ]
  },
  {
   "cell_type": "code",
   "execution_count": 9,
   "id": "398951f5",
   "metadata": {},
   "outputs": [
    {
     "data": {
      "text/plain": [
       "OrderedDict([('weights', tensor([0.3367])), ('bias', tensor([0.1288]))])"
      ]
     },
     "execution_count": 9,
     "metadata": {},
     "output_type": "execute_result"
    }
   ],
   "source": [
    "# List the named params\n",
    "model_0.state_dict()"
   ]
  },
  {
   "cell_type": "code",
   "execution_count": 10,
   "id": "5ad58a1a",
   "metadata": {},
   "outputs": [
    {
     "name": "stdout",
     "output_type": "stream",
     "text": [
      "The params value we currently have in tensor is   : (0.3367, 0.1288)\n",
      "The params value we need to adjust using model is : (0.6000, 0.4000)\n"
     ]
    }
   ],
   "source": [
    "print(f\"The params value we currently have in tensor is   : ({c[0]:.4f}, {d[0]:.4f})\")\n",
    "print(f\"The params value we need to adjust using model is : ({weight:.4f}, {bias:.4f})\")"
   ]
  },
  {
   "cell_type": "markdown",
   "id": "1bf4085e",
   "metadata": {},
   "source": [
    "#### Making predictions using `torch.inference_mode()`\n",
    "To check the model's predictive efficiency by considering how well it predict `y_test` based on `X_test`.\n",
    "When the data are being passed onto the model, it runs through the `forward()` method."
   ]
  },
  {
   "cell_type": "code",
   "execution_count": 11,
   "id": "d12495fc",
   "metadata": {},
   "outputs": [
    {
     "name": "stdout",
     "output_type": "stream",
     "text": [
      "These are our input data:\n",
      "tensor([[0.8000],\n",
      "        [0.8200],\n",
      "        [0.8400],\n",
      "        [0.8600],\n",
      "        [0.8800],\n",
      "        [0.9000],\n",
      "        [0.9200],\n",
      "        [0.9400],\n",
      "        [0.9600],\n",
      "        [0.9800]])\n",
      "\n",
      "And we want our model to adjust the values to these:\n",
      " tensor([[0.8800],\n",
      "        [0.8920],\n",
      "        [0.9040],\n",
      "        [0.9160],\n",
      "        [0.9280],\n",
      "        [0.9400],\n",
      "        [0.9520],\n",
      "        [0.9640],\n",
      "        [0.9760],\n",
      "        [0.9880]])\n"
     ]
    }
   ],
   "source": [
    "print(f\"These are our input data:\\n{X_test}\\n\\nAnd we want our model to adjust the values to these:\\n {y_test}\")"
   ]
  },
  {
   "cell_type": "markdown",
   "id": "a03ea8c5",
   "metadata": {},
   "source": [
    "Using the `torch.inference_mode()` method in predicting model gives us the predictions without any saved gradients. In prediction, we do not need the gradients as we do not update the backwardprop while doing predictions. So this mode disables the useful things needed in training and show us only the prediction."
   ]
  },
  {
   "cell_type": "code",
   "execution_count": 12,
   "id": "61ebd245",
   "metadata": {},
   "outputs": [
    {
     "name": "stdout",
     "output_type": "stream",
     "text": [
      "These are predicted:\n",
      "tensor([[0.3982],\n",
      "        [0.4049],\n",
      "        [0.4116],\n",
      "        [0.4184],\n",
      "        [0.4251],\n",
      "        [0.4318],\n",
      "        [0.4386],\n",
      "        [0.4453],\n",
      "        [0.4520],\n",
      "        [0.4588]])\n",
      "\n",
      "Desired ground Truth:\n",
      " tensor([[0.8800],\n",
      "        [0.8920],\n",
      "        [0.9040],\n",
      "        [0.9160],\n",
      "        [0.9280],\n",
      "        [0.9400],\n",
      "        [0.9520],\n",
      "        [0.9640],\n",
      "        [0.9760],\n",
      "        [0.9880]])\n"
     ]
    }
   ],
   "source": [
    "# Make predictions with model\n",
    "with torch.inference_mode():\n",
    "    y_preds = model_0(X_test)\n",
    "\"\"\"\n",
    "Similar things can be done with `no_grad()`\n",
    "with torch.no_grad():\n",
    "    y_preds = model_0(X_test)\n",
    "\"\"\"\n",
    "print(f\"These are predicted:\\n{y_preds}\\n\\nDesired ground Truth:\\n {y_test}\")"
   ]
  },
  {
   "cell_type": "code",
   "execution_count": 13,
   "id": "c1e9c170",
   "metadata": {},
   "outputs": [
    {
     "data": {
      "image/png": "[encoded data removed]",
      "text/plain": [
       "<Figure size 1200x600 with 1 Axes>"
      ]
     },
     "metadata": {},
     "output_type": "display_data"
    }
   ],
   "source": [
    "# Let's Visualize the predictions\n",
    "plot_pred(predictions=y_preds)"
   ]
  },
  {
   "cell_type": "markdown",
   "id": "7a60a304",
   "metadata": {},
   "source": [
    "## Train the model\n",
    "The intuition of training a model is to adjust the *unknown* (random) parameters to some *known* (ideal) parameters. In other words, model training is a **better representation of the data from a poor representation**.\n",
    "##### How to measure poorness between the test data and predicted data? \n",
    "* **Loss Function :** A function to measure the wrongness of model's performance on predicting the ideal output. The lower is better!\n",
    "* **Optimizer :** Given the loss of the model, it adjusts the model's parameters (e.g., weight & bias) to improve loss function.\n",
    "    * Optimizer will mainly use two important parameters:\n",
    "        * `params` = Parameters: The model's initial params that will be optimized\n",
    "        * `lr` = Learning Rate: A hyperparameter that defines the changing step for the parameters.\n",
    "\n",
    "##### What are the main parts of building a Model?\n",
    "* **Training Loop :** It will be adjusting the *initial parameters* of the model as it goes through an *iterative process* of prediction and improvment of the loss function towards the ideal output.\n",
    "* **Testing Loop :** It will be checking the *adjusted parameters* of the model as it goes through an *iterative process* of evaluation and inference of the predicted output in the training loop."
   ]
  },
  {
   "cell_type": "code",
   "execution_count": 14,
   "id": "dfd42505",
   "metadata": {},
   "outputs": [],
   "source": [
    "\"\"\"\n",
    "We are going to use the `L1 Loss` or the Mean Absolute Error (MAE)\n",
    "and the `SGD Optimizer` or the Stochastic Gradient Descent \n",
    "for this model.\n",
    "\"\"\"\n",
    "# Setup a Loss function\n",
    "loss_fn = nn.L1Loss()\n",
    "\n",
    "# Setup an Optimizer\n",
    "optimizer = torch.optim.SGD(params=model_0.parameters(),\n",
    "                           lr=0.01) # learning_rate = Hyperparameter"
   ]
  },
  {
   "cell_type": "markdown",
   "id": "630d7396",
   "metadata": {},
   "source": [
    "#### Building the Training & Testing loop\n",
    "Essentials for a training loop:\n",
    "1. Loop through the data.\n",
    "2. Forward pass (by overwriting the `forward()` method.\n",
    "3. Loss calculation (by comparing forward pass predictions with ground truth labels).\n",
    "4. Loss backward - Move backwards through the graph to calculate the gradients of each of the params of our model with respect to the loss (**backpropagation**).\n",
    "5. Optimization - Using optimizer to adjust the params to improve the loss (**gradient descent**)."
   ]
  },
  {
   "cell_type": "code",
   "execution_count": 15,
   "id": "5022bcb8",
   "metadata": {},
   "outputs": [
    {
     "name": "stdout",
     "output_type": "stream",
     "text": [
      "Loss after `1` EPOCH:\t0.373881\n"
     ]
    }
   ],
   "source": [
    "\"\"\"1. Loop through the data\"\"\"\n",
    "#Epoch is loops through data\n",
    "epochs = 1\n",
    "\n",
    "for epoch in range(epochs):\n",
    "    #Set the model to training mode\n",
    "    model_0.train()\n",
    "    \n",
    "    \"\"\"2. Forward pass\"\"\"\n",
    "    y_pred = model_0(X_train)\n",
    "    \n",
    "    \"\"\"3. Loss Calculation\"\"\"\n",
    "    # Loss between predicted and ground truth\n",
    "    loss = loss_fn(y_pred, y_train)\n",
    "    print(f\"Loss after `{epoch+1}` EPOCH:\\t{loss:.6f}\")\n",
    "    \n",
    "    \"\"\" ## Optimizer Zero Grad : This actually works with 4 & 5\"\"\"\n",
    "    optimizer.zero_grad()\n",
    "    \n",
    "    \"\"\"4. Backpropagation\"\"\"\n",
    "    loss.backward()\n",
    "    \n",
    "    \"\"\"5. Gradient Descent\"\"\"\n",
    "    optimizer.step()"
   ]
  },
  {
   "cell_type": "code",
   "execution_count": 16,
   "id": "0ed696b0",
   "metadata": {},
   "outputs": [
    {
     "data": {
      "text/plain": [
       "OrderedDict([('weights', tensor([0.3406])), ('bias', tensor([0.1388]))])"
      ]
     },
     "execution_count": 16,
     "metadata": {},
     "output_type": "execute_result"
    }
   ],
   "source": [
    "model_0.state_dict()"
   ]
  },
  {
   "cell_type": "code",
   "execution_count": 18,
   "id": "45dedbe9",
   "metadata": {},
   "outputs": [
    {
     "name": "stdout",
     "output_type": "stream",
     "text": [
      "The params value we previously had in the tensor: (0.3367, 0.1288)\n",
      "After just `1` epoch, our model's performance\t: (0.3406, 0.1388)\n",
      "And we need to adjust the performance to\t: (0.6000, 0.4000)\n"
     ]
    }
   ],
   "source": [
    "# Print the model current state after just 1 epoch\n",
    "c,d = list(model_0.state_dict().values())\n",
    "print(f\"The params value we previously had in the tensor: ({a}, {b})\")\n",
    "print(f\"After just `{epoch+1}` epoch, our model's performance\\t: ({c[0]:.4f}, {d[0]:.4f})\")\n",
    "print(f\"And we need to adjust the performance to\\t: ({weight:.4f}, {bias:.4f})\")"
   ]
  },
  {
   "cell_type": "code",
   "execution_count": null,
   "id": "89534c5f",
   "metadata": {},
   "outputs": [],
   "source": []
  },
  {
   "cell_type": "code",
   "execution_count": null,
   "id": "3c28913c",
   "metadata": {},
   "outputs": [],
   "source": []
  },
  {
   "cell_type": "code",
   "execution_count": null,
   "id": "d464c33a",
   "metadata": {},
   "outputs": [],
   "source": []
  },
  {
   "cell_type": "code",
   "execution_count": null,
   "id": "9b7b745c",
   "metadata": {},
   "outputs": [],
   "source": []
  },
  {
   "cell_type": "code",
   "execution_count": null,
   "id": "9555df72",
   "metadata": {},
   "outputs": [],
   "source": []
  },
  {
   "cell_type": "code",
   "execution_count": null,
   "id": "36e735fc",
   "metadata": {},
   "outputs": [],
   "source": []
  },
  {
   "cell_type": "code",
   "execution_count": null,
   "id": "7d67cb71",
   "metadata": {},
   "outputs": [],
   "source": []
  },
  {
   "cell_type": "code",
   "execution_count": null,
   "id": "c73939c4",
   "metadata": {},
   "outputs": [],
   "source": []
  },
  {
   "cell_type": "code",
   "execution_count": null,
   "id": "83e003fa",
   "metadata": {},
   "outputs": [],
   "source": []
  }
 ],
 "metadata": {
  "kernelspec": {
   "display_name": "Pytorch (CUDA)",
   "language": "python",
   "name": "pytorch"
  },
  "language_info": {
   "codemirror_mode": {
    "name": "ipython",
    "version": 3
   },
   "file_extension": ".py",
   "mimetype": "text/x-python",
   "name": "python",
   "nbconvert_exporter": "python",
   "pygments_lexer": "ipython3",
   "version": "3.9.20"
  }
 },
 "nbformat": 4,
 "nbformat_minor": 5
}
