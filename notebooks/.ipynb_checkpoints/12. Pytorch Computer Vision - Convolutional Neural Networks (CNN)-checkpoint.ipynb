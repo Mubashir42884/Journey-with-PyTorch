{
 "cells": [
  {
   "cell_type": "markdown",
   "id": "e4e32a21",
   "metadata": {},
   "source": [
    "# **PYTORCH CV - CONVULUTIONAL NEURAL NETS**"
   ]
  },
  {
   "cell_type": "markdown",
   "id": "453ab0a0",
   "metadata": {},
   "source": [
    "### What is Convolution?\n",
    "\n",
    "Convolution is a mathematical operation used to **combine two functions (or data) to produce a third function** that shows how one function modifies the other.\n",
    "\n",
    "In image processing, convolution is commonly used to extract features (like edges, textures, shapes, or patterns) by applying a filter (a.k.a kernel) to the image.\n",
    "\n",
    "* ***For example:*** *A 3x3 filter (e.g., edge detection filter or kernel) slides over the image (matrix data) and multiplies the filter values with the image pixel values (matrix values), summing them up to create a new value. This is repeated across the entire image (matrix data) to create a **\"feature map\"** of the image (matrix data).*\n",
    "\n",
    "\n",
    "Let's see a detailed calculation animation of convolution operation:\n",
    "\n",
    "<img src=\"../resources/Convolution_Operation.gif\" width=50%></img>\n",
    "***N.B:** A 6x6 matrix, representing an image data matrix, is being convoluted with a 3x3 filter (kernel) using a step size (stride) of 3. This means that during each iteration, the filter shifts 3 pixels (steps) horizontally and vertically across the matrix. Typically, the step size (stride) is set to 1, allowing the filter to move only one step at a time.*\n",
    "\n",
    "</br>\n",
    "\n",
    "<font color=\"salmon\"><b><i>⭑Note: A 6x6 matrix convolved with a 3x3 filter can produce outputs of different dimensions depending on the step size (stride). If the stride is 1, the output will be a 4x4 matrix. With a stride of 2, the output will be a 2x2 matrix. A stride size greater than 2 will not allow the 3x3 filter to fit within the 6x6 matrix, making convolution impossible.</i></b></font>"
   ]
  },
  {
   "cell_type": "markdown",
   "id": "3245c7a4",
   "metadata": {},
   "source": [
    "### How Do Convolutional Neural Networks (CNNs) Work?\n",
    "\n",
    "CNNs are specialized neural networks designed for processing structured data like images. They work in the following steps:\n",
    "1. **Convolution Layer:**\n",
    "    * Filters (small matrices) slide over the input image and extract features like edges, corners, or textures. This creates feature maps.\n",
    "    * Example: A 3x3 edge-detection filter highlights edges in an image.\n",
    "\n",
    "\n",
    "2. **ReLU Activation:**\n",
    "    * Applies a non-linear function $ReLU = max(0, x)$ to the feature maps to introduce non-linearity and remove negative values.\n",
    "\n",
    "\n",
    "3. **Pooling (Downsampling):**\n",
    "    * Reduces the size of feature maps while retaining important features (e.g., MaxPooling takes the maximum value in a region).\n",
    "    * Example: A 2x2 pooling layer reduces the size of a 4x4 feature map to 2x2.\n",
    "    * Types of Pooling:\n",
    "        - $Max Pooling (MaxPool)$: Takes the maximum value in each pooling region (e.g., 2x2 or 3x3) and retains the most prominent (strongest) feature in the region.\n",
    "        - $Average Pooling (AvgPool)$: Calculates the average value of all elements in the pooling region and preserves smoother feature representations by averaging.\n",
    "        - $Min Pooling (MinPool)$: Takes the minimum value in each pooling region and captures subtle or weak features by highlighting the smallest value.\n",
    "\n",
    "\n",
    "4. **Fully Connected Layer:**\n",
    "    * Flattened feature maps are passed to traditional dense layers for final classification or regression tasks.\n",
    "\n",
    "\n",
    "5. **Softmax/Output Layer:**\n",
    "    * Converts final outputs into probabilities or predictions."
   ]
  },
  {
   "cell_type": "markdown",
   "id": "db90ed62",
   "metadata": {},
   "source": [
    "<h3 align=\"center\"> What Makes CNN Special? </h3>\n",
    "\n",
    "##### Automatic Feature Extraction\n",
    "CNNs learn important features (edges, patterns) from data automatically, unlike traditional models where features are manually engineered.\n",
    "##### Translation Invariance\n",
    "CNNs recognize patterns regardless of their location in the input (e.g., a face in an image can be detected whether it's in the center or corner).\n",
    "##### Parameter Efficiency\n",
    "CNNs use fewer parameters due to shared weights in filters, making them computationally efficient.\n",
    "##### Great for Images and Spatial Data\n",
    "CNNs excel at capturing spatial hierarchies (edges → shapes → objects) in data like images, videos, or even audio spectrograms."
   ]
  },
  {
   "cell_type": "markdown",
   "id": "272774fc",
   "metadata": {},
   "source": [
    "### Let's Build A Convolutional Neural Network\n",
    "\n",
    "First, we will preprocess our data..."
   ]
  },
  {
   "cell_type": "code",
   "execution_count": 1,
   "id": "569fd016",
   "metadata": {},
   "outputs": [],
   "source": [
    "## Import PyTorch\n",
    "import torch\n",
    "from torch import nn\n",
    "\n",
    "## Import torchvision\n",
    "import torchvision\n",
    "from torchvision import datasets\n",
    "from torchvision import transforms\n",
    "from torchvision.transforms import ToTensor\n",
    "\n",
    "## Import other important libs\n",
    "import matplotlib.pyplot as plt"
   ]
  },
  {
   "cell_type": "code",
   "execution_count": 2,
   "id": "c78ade10",
   "metadata": {},
   "outputs": [],
   "source": [
    "# Setup Training Data\n",
    "train_data = datasets.FashionMNIST(\n",
    "    root=\"data\",\n",
    "    train=True,\n",
    "    download=True,\n",
    "    transform=ToTensor(),\n",
    "    target_transform=None\n",
    ")\n",
    "\n",
    "test_data = datasets.FashionMNIST(\n",
    "    root=\"data\",\n",
    "    train=False,\n",
    "    download=True,\n",
    "    transform=ToTensor(),\n",
    "    target_transform=None\n",
    ") "
   ]
  },
  {
   "cell_type": "code",
   "execution_count": 3,
   "id": "f1b51942",
   "metadata": {},
   "outputs": [
    {
     "name": "stdout",
     "output_type": "stream",
     "text": [
      "Length of Train Data:\t60000\n",
      "Length of Test Data:\t10000\n"
     ]
    }
   ],
   "source": [
    "print(f\"Length of Train Data:\\t{len(train_data)}\\nLength of Test Data:\\t{len(test_data)}\")"
   ]
  },
  {
   "cell_type": "code",
   "execution_count": 4,
   "id": "78fb67e2",
   "metadata": {},
   "outputs": [
    {
     "name": "stdout",
     "output_type": "stream",
     "text": [
      "Class Names:\n",
      "['T-shirt/top', 'Trouser', 'Pullover', 'Dress', 'Coat', 'Sandal', 'Shirt', 'Sneaker', 'Bag', 'Ankle boot']\n",
      "Dict of the Class Names:\n",
      "{'T-shirt/top': 0, 'Trouser': 1, 'Pullover': 2, 'Dress': 3, 'Coat': 4, 'Sandal': 5, 'Shirt': 6, 'Sneaker': 7, 'Bag': 8, 'Ankle boot': 9}\n"
     ]
    }
   ],
   "source": [
    "class_names = train_data.classes\n",
    "print(f\"Class Names:\\n{class_names}\")\n",
    "class_to_idx = train_data.class_to_idx\n",
    "print(f\"Dict of the Class Names:\\n{class_to_idx}\")"
   ]
  },
  {
   "cell_type": "code",
   "execution_count": 5,
   "id": "d86b0bd6",
   "metadata": {},
   "outputs": [],
   "source": [
    "# For later use\n",
    "random_idx = torch.randint(0, len(train_data), size=[1]).item()\n",
    "img, label = train_data[random_idx]"
   ]
  },
  {
   "cell_type": "code",
   "execution_count": 6,
   "id": "47fe8396",
   "metadata": {},
   "outputs": [
    {
     "data": {
      "image/png": "[encoded data removed]",
      "text/plain": [
       "<Figure size 1080x1080 with 16 Axes>"
      ]
     },
     "metadata": {},
     "output_type": "display_data"
    }
   ],
   "source": [
    "# Plot Images\n",
    "torch.manual_seed(42)\n",
    "fig = plt.figure(figsize=(9,9))\n",
    "rows, cols = 4,4\n",
    "for i in range(1, rows*cols+1):\n",
    "    random_idx = torch.randint(0, len(train_data), size=[1]).item()\n",
    "    img, label = train_data[random_idx]\n",
    "    fig.add_subplot(rows, cols, i)\n",
    "    plt.imshow(img.squeeze(), cmap='gray')\n",
    "    plt.title(class_names[label])\n",
    "    plt.axis(False)"
   ]
  },
  {
   "cell_type": "code",
   "execution_count": 7,
   "id": "d6441cbd",
   "metadata": {},
   "outputs": [],
   "source": [
    "# Prepare DataLoader\n",
    "from torch.utils.data import DataLoader\n",
    "\n",
    "# Setup the Batchsize hyperparameter\n",
    "BATCH_SIZE = 32\n",
    "\n",
    "# Turn datasets into iterable batches\n",
    "train_dataloader = DataLoader(dataset=train_data,\n",
    "                            batch_size=BATCH_SIZE,\n",
    "                            shuffle=True)\n",
    "\n",
    "test_dataloader = DataLoader(dataset=test_data,\n",
    "                            batch_size=BATCH_SIZE,\n",
    "                            shuffle=False)"
   ]
  },
  {
   "cell_type": "code",
   "execution_count": 8,
   "id": "c0831e9e",
   "metadata": {},
   "outputs": [
    {
     "name": "stdout",
     "output_type": "stream",
     "text": [
      "Shape of Train Batch:\ttorch.Size([32, 1, 28, 28])\n",
      "Shape of Test Batch:\ttorch.Size([32])\n"
     ]
    }
   ],
   "source": [
    "# Check out what's inside the training dataloader\n",
    "train_features_batch, train_labels_batch = next(iter(train_dataloader))\n",
    "print(f\"Shape of Train Batch:\\t{train_features_batch.shape}\\nShape of Test Batch:\\t{train_labels_batch.shape}\")"
   ]
  },
  {
   "cell_type": "markdown",
   "id": "ba66f6f0",
   "metadata": {},
   "source": [
    "#### Create a Convolutional NN Model\n",
    "\n",
    "<img src=\"../resources/Simple_CNN_Archi.png\"  width=85%></img>"
   ]
  },
  {
   "cell_type": "code",
   "execution_count": 9,
   "id": "d521ef8c",
   "metadata": {},
   "outputs": [
    {
     "name": "stdout",
     "output_type": "stream",
     "text": [
      "Active Device:\tcuda\n"
     ]
    }
   ],
   "source": [
    "device = 'cuda' if torch.cuda.is_available() else 'cpu'\n",
    "print(f\"Active Device:\\t{device}\")"
   ]
  },
  {
   "cell_type": "code",
   "execution_count": 10,
   "id": "0a090dfb",
   "metadata": {},
   "outputs": [],
   "source": [
    "from torch import nn\n",
    "\n",
    "class FashionMNISTModel2(nn.Module):\n",
    "    def __init__(self, input_shape: int, hidden_units: int, output_shape: int):\n",
    "        super().__init__()\n",
    "        \"\"\" We will create our CNN in Conv_layers\"\"\"\n",
    "        # 1. Block_1 Layers\n",
    "        self.conv_block_1 = nn.Sequential(\n",
    "            nn.Conv2d(in_channels=input_shape,\n",
    "                      out_channels=hidden_units,\n",
    "                      # set some hyperparameters\n",
    "                      kernel_size=3, # size of filter (3x3)\n",
    "                      stride=1,      # size of steps per move\n",
    "                      padding=1),    # size of border (1px)\n",
    "            nn.ReLU(),\n",
    "            nn.Conv2d(in_channels=hidden_units,\n",
    "                      out_channels=hidden_units,\n",
    "                      kernel_size=3, \n",
    "                      stride=1,      \n",
    "                      padding=1),\n",
    "            nn.ReLU(),\n",
    "            nn.MaxPool2d(kernel_size=2)\n",
    "        )\n",
    "        \n",
    "        # 2. Block_2 Layers\n",
    "        self.conv_block_2 = nn.Sequential(\n",
    "            nn.Conv2d(in_channels=hidden_units,\n",
    "                      out_channels=hidden_units,\n",
    "                      kernel_size=3, \n",
    "                      stride=1,      \n",
    "                      padding=1),    \n",
    "            nn.ReLU(),\n",
    "            nn.Conv2d(in_channels=hidden_units,\n",
    "                      out_channels=hidden_units,\n",
    "                      kernel_size=3, \n",
    "                      stride=1,      \n",
    "                      padding=1),\n",
    "            nn.ReLU(),\n",
    "            nn.MaxPool2d(kernel_size=2)\n",
    "        )\n",
    "        \n",
    "        # 3. Classifier Layers\n",
    "        self.classifier = nn.Sequential(\n",
    "            nn.Flatten(),\n",
    "            nn.Linear(in_features=hidden_units*7*7, # there's a trick calculating this\n",
    "                      out_features=output_shape)\n",
    "        )\n",
    "        \n",
    "    def forward(self, x):\n",
    "        x = self.conv_block_1(x)\n",
    "        #print(f\"Block_1 Output Shape\\t: {x.shape}\")\n",
    "        x = self.conv_block_2(x)\n",
    "        #print(f\"Block_2 Output Shape\\t: {x.shape}\")\n",
    "        x = self.classifier(x)\n",
    "        #print(f\"Classifier Output Shape\\t: {x.shape}\")\n",
    "        return x"
   ]
  },
  {
   "cell_type": "code",
   "execution_count": 11,
   "id": "72eb67a3",
   "metadata": {},
   "outputs": [],
   "source": [
    "torch.manual_seed(42)\n",
    "model_1 = FashionMNISTModel2(input_shape=1,\n",
    "                             hidden_units=10,\n",
    "                             output_shape=len(class_names)).to(device)"
   ]
  },
  {
   "cell_type": "markdown",
   "id": "79ef7377",
   "metadata": {},
   "source": [
    "### Stepping through Conv2d `nn.conv2d()` Layers\n",
    "\n",
    "Let's go through the Conv2d layer with a dummy data for learning purpose before diving into training our model_1."
   ]
  },
  {
   "cell_type": "code",
   "execution_count": 12,
   "id": "39857c89",
   "metadata": {},
   "outputs": [
    {
     "name": "stdout",
     "output_type": "stream",
     "text": [
      "Image batch shape: torch.Size([32, 3, 64, 64])\n",
      "Single Image shape: torch.Size([3, 64, 64])\n",
      "Test Image: tensor([[[ 1.9269,  1.4873,  0.9007,  ...,  1.8446, -1.1845,  1.3835],\n",
      "         [ 1.4451,  0.8564,  2.2181,  ...,  0.3399,  0.7200,  0.4114],\n",
      "         [ 1.9312,  1.0119, -1.4364,  ..., -0.5558,  0.7043,  0.7099],\n",
      "         ...,\n",
      "         [-0.5610, -0.4830,  0.4770,  ..., -0.2713, -0.9537, -0.6737],\n",
      "         [ 0.3076, -0.1277,  0.0366,  ..., -2.0060,  0.2824, -0.8111],\n",
      "         [-1.5486,  0.0485, -0.7712,  ..., -0.1403,  0.9416, -0.0118]],\n",
      "\n",
      "        [[-0.5197,  1.8524,  1.8365,  ...,  0.8935, -1.5114, -0.8515],\n",
      "         [ 2.0818,  1.0677, -1.4277,  ...,  1.6612, -2.6223, -0.4319],\n",
      "         [-0.1010, -0.4388, -1.9775,  ...,  0.2106,  0.2536, -0.7318],\n",
      "         ...,\n",
      "         [ 0.2779,  0.7342, -0.3736,  ..., -0.4601,  0.1815,  0.1850],\n",
      "         [ 0.7205, -0.2833,  0.0937,  ..., -0.1002, -2.3609,  2.2465],\n",
      "         [-1.3242, -0.1973,  0.2920,  ...,  0.5409,  0.6940,  1.8563]],\n",
      "\n",
      "        [[-0.7978,  1.0261,  1.1465,  ...,  1.2134,  0.9354, -0.0780],\n",
      "         [-1.4647, -1.9571,  0.1017,  ..., -1.9986, -0.7409,  0.7011],\n",
      "         [-1.3938,  0.8466, -1.7191,  ..., -1.1867,  0.1320,  0.3407],\n",
      "         ...,\n",
      "         [ 0.8206, -0.3745,  1.2499,  ..., -0.0676,  0.0385,  0.6335],\n",
      "         [-0.5589, -0.3393,  0.2347,  ...,  2.1181,  2.4569,  1.3083],\n",
      "         [-0.4092,  1.5199,  0.2401,  ..., -0.2558,  0.7870,  0.9924]]])\n"
     ]
    }
   ],
   "source": [
    "torch.manual_seed(42)\n",
    "\n",
    "# Create a batch of images\n",
    "images = torch.randn(size=(32, 3, 64, 64))  # [batch_size=32, color_channels=3, height=64, width=64]\n",
    "test_image = images[0]\n",
    "\n",
    "print(f\"Image batch shape: {images.shape}\")\n",
    "print(f\"Single Image shape: {test_image.shape}\")\n",
    "print(f\"Test Image: {test_image}\")"
   ]
  },
  {
   "cell_type": "code",
   "execution_count": 13,
   "id": "dcb08233",
   "metadata": {},
   "outputs": [
    {
     "name": "stdout",
     "output_type": "stream",
     "text": [
      "The Output Shape\t: torch.Size([1, 10, 62, 62])\n"
     ]
    }
   ],
   "source": [
    "# Create a single Conv2d layer\n",
    "\"\"\"in_channels=3, out_channels=10, kernel_size=3, stride=1, padding=0\"\"\"\n",
    "conv_layer =  nn.Conv2d(in_channels=3,\n",
    "                        out_channels=10,\n",
    "                        kernel_size=3,\n",
    "                        stride=1,\n",
    "                        padding=0)\n",
    "\n",
    "# Pass the data through the convolutional layers\n",
    "conv_output = conv_layer(test_image.unsqueeze(0))\n",
    "shape_0 = conv_output.shape\n",
    "\n",
    "# print the shape to see the change\n",
    "print(f\"The Output Shape\\t: {shape_0}\")"
   ]
  },
  {
   "cell_type": "code",
   "execution_count": 14,
   "id": "8e50dabd",
   "metadata": {},
   "outputs": [
    {
     "name": "stdout",
     "output_type": "stream",
     "text": [
      "The Output Shape after changing out_channels to 64\t: torch.Size([1, 64, 62, 62])\n"
     ]
    }
   ],
   "source": [
    "\"\"\"in_channels=3, out_channels=64, kernel_size=3, stride=1, padding=0\"\"\"\n",
    "conv_layer =  nn.Conv2d(in_channels=3,\n",
    "                        out_channels=64,\n",
    "                        kernel_size=3,\n",
    "                        stride=1,\n",
    "                        padding=0)\n",
    "\n",
    "# Pass the data through the convolutional layers\n",
    "conv_output = conv_layer(test_image.unsqueeze(0))\n",
    "shape_1 = conv_output.shape\n",
    "\n",
    "# print the shape to see the change\n",
    "print(f\"The Output Shape after changing out_channels to 64\\t: {shape_1}\")"
   ]
  },
  {
   "cell_type": "code",
   "execution_count": 15,
   "id": "a0c56e75",
   "metadata": {},
   "outputs": [
    {
     "name": "stdout",
     "output_type": "stream",
     "text": [
      "The Output Shape after changing kernel_size to 5\t: torch.Size([1, 10, 60, 60])\n"
     ]
    }
   ],
   "source": [
    "\"\"\"in_channels=3, out_channels=10, kernel_size=5, stride=1, padding=0\"\"\"\n",
    "conv_layer =  nn.Conv2d(in_channels=3,\n",
    "                        out_channels=10,\n",
    "                        kernel_size=5,\n",
    "                        stride=1,\n",
    "                        padding=0)\n",
    "\n",
    "# Pass the data through the convolutional layers\n",
    "conv_output = conv_layer(test_image.unsqueeze(0))\n",
    "shape_2 = conv_output.shape\n",
    "\n",
    "# print the shape to see the change\n",
    "print(f\"The Output Shape after changing kernel_size to 5\\t: {shape_2}\")"
   ]
  },
  {
   "cell_type": "code",
   "execution_count": 16,
   "id": "09d61920",
   "metadata": {},
   "outputs": [
    {
     "name": "stdout",
     "output_type": "stream",
     "text": [
      "The Output Shape after changing stride to 4\t: torch.Size([1, 10, 16, 16])\n"
     ]
    }
   ],
   "source": [
    "\"\"\"in_channels=3, out_channels=10, kernel_size=3, stride=2, padding=0\"\"\"\n",
    "conv_layer =  nn.Conv2d(in_channels=3,\n",
    "                        out_channels=10,\n",
    "                        kernel_size=3,\n",
    "                        stride=4,\n",
    "                        padding=0)\n",
    "\n",
    "# Pass the data through the convolutional layers\n",
    "conv_output = conv_layer(test_image.unsqueeze(0))\n",
    "shape_3 = conv_output.shape\n",
    "\n",
    "# print the shape to see the change\n",
    "print(f\"The Output Shape after changing stride to 4\\t: {shape_3}\")"
   ]
  },
  {
   "cell_type": "code",
   "execution_count": 17,
   "id": "00456006",
   "metadata": {},
   "outputs": [
    {
     "name": "stdout",
     "output_type": "stream",
     "text": [
      "The Output Shape after changing padding to 1\t: torch.Size([1, 10, 64, 64])\n"
     ]
    }
   ],
   "source": [
    "\"\"\"in_channels=3, out_channels=10, kernel_size=3, stride=1, padding=1\"\"\"\n",
    "conv_layer =  nn.Conv2d(in_channels=3,\n",
    "                        out_channels=10,\n",
    "                        kernel_size=3,\n",
    "                        stride=1,\n",
    "                        padding=1)\n",
    "\n",
    "# Pass the data through the convolutional layers\n",
    "conv_output = conv_layer(test_image.unsqueeze(0))\n",
    "shape_4 = conv_output.shape\n",
    "\n",
    "# print the shape to see the change\n",
    "print(f\"The Output Shape after changing padding to 1\\t: {shape_4}\")"
   ]
  },
  {
   "cell_type": "code",
   "execution_count": 18,
   "id": "e2f3a2bd",
   "metadata": {},
   "outputs": [
    {
     "name": "stdout",
     "output_type": "stream",
     "text": [
      "Initial Image Shape Before Convolution\t\t : torch.Size([3, 64, 64])\n",
      "\n",
      "Before Passing Through the Conv2d Layer\t\t : torch.Size([1, 3, 64, 64])\n",
      "After [out_ch=10, kernel=3, stride=1, padding=0] : torch.Size([1, 10, 62, 62])\n",
      "After [out_ch=64, kernel=3, stride=1, padding=0] : torch.Size([1, 64, 62, 62])\n",
      "After [out_ch=10, kernel=5, stride=1, padding=0] : torch.Size([1, 10, 60, 60])\n",
      "After [out_ch=10, kernel=3, stride=4, padding=0] : torch.Size([1, 10, 16, 16])\n",
      "After [out_ch=10, kernel=3, stride=1, padding=1] : torch.Size([1, 10, 64, 64])\n"
     ]
    }
   ],
   "source": [
    "# Summary of what just happened\n",
    "print(f\"Initial Image Shape Before Convolution\\t\\t : {test_image.shape}\\n\")\n",
    "print(f\"Before Passing Through the Conv2d Layer\\t\\t : {test_image.unsqueeze(0).shape}\")\n",
    "print(f\"After [out_ch=10, kernel=3, stride=1, padding=0] : {shape_0}\")\n",
    "print(f\"After [out_ch=64, kernel=3, stride=1, padding=0] : {shape_1}\")\n",
    "print(f\"After [out_ch=10, kernel=5, stride=1, padding=0] : {shape_2}\")\n",
    "print(f\"After [out_ch=10, kernel=3, stride=4, padding=0] : {shape_3}\")\n",
    "print(f\"After [out_ch=10, kernel=3, stride=1, padding=1] : {shape_4}\")"
   ]
  },
  {
   "cell_type": "markdown",
   "id": "43e44250",
   "metadata": {},
   "source": [
    "### Stepping through MaxPool `nn.MaxPool2d()` Layers\n",
    "\n",
    "Let's go through the MaxPool2d layer with a dummy data for learning purpose..."
   ]
  },
  {
   "cell_type": "code",
   "execution_count": 19,
   "id": "0d6a0eaf",
   "metadata": {},
   "outputs": [
    {
     "name": "stdout",
     "output_type": "stream",
     "text": [
      "Test Image Original Shape\t: torch.Size([3, 64, 64])\n",
      "Test Image with Unsqueezed dimension\t: torch.Size([1, 3, 64, 64])\n",
      "Shape After going through Conv_layer\t: torch.Size([1, 10, 64, 64])\n",
      "Shape After going through Conv_layer and Max_pool_layer\t: torch.Size([1, 10, 32, 32])\n"
     ]
    }
   ],
   "source": [
    "# Print out the original Image shape without unsqueezing\n",
    "print(f\"Test Image Original Shape\\t: {test_image.shape}\")\n",
    "print(f\"Test Image with Unsqueezed dimension\\t: {test_image.unsqueeze(0).shape}\")\n",
    "\n",
    "# Create a Conv2d layer\n",
    "\"\"\"in_channels=3, out_channels=10, kernel_size=3, stride=1, padding=0\"\"\"\n",
    "conv_layer_1 =  nn.Conv2d(in_channels=3,\n",
    "                        out_channels=10,\n",
    "                        kernel_size=3,\n",
    "                        stride=1,\n",
    "                        padding=1)\n",
    "\n",
    "# Create a MaxPool2d Layer\n",
    "max_pool_layer = nn.MaxPool2d(kernel_size=2)\n",
    "\n",
    "# Pass data throught just the conv_layer\n",
    "test_image_conv = conv_layer_1(test_image.unsqueeze(dim=0))\n",
    "print(f\"Shape After going through Conv_layer\\t: {test_image_conv.shape}\")\n",
    "\n",
    "# Pass data through the maxpool layer\n",
    "test_image_maxpool = max_pool_layer(test_image_conv)\n",
    "print(f\"Shape After going through Conv_layer and Max_pool_layer\\t: {test_image_maxpool.shape}\")"
   ]
  },
  {
   "cell_type": "code",
   "execution_count": 20,
   "id": "31262736",
   "metadata": {},
   "outputs": [
    {
     "name": "stdout",
     "output_type": "stream",
     "text": [
      "Random Tensor:\n",
      "tensor([[[[0.3367, 0.1288],\n",
      "          [0.2345, 0.2303]]]])\n",
      "Random Tensor Shape:\ttorch.Size([1, 1, 2, 2])\n",
      "Max pool Tensor:\t tensor([[[[0.3367]]]])\n",
      "Max pool Tensor Shape:\t torch.Size([1, 1, 1, 1])\n"
     ]
    }
   ],
   "source": [
    "torch.manual_seed(42)\n",
    "\n",
    "# Create a randomn tensor\n",
    "random_tensor = torch.randn(size=(1,1,2,2))\n",
    "print(f\"Random Tensor:\\n{random_tensor}\")\n",
    "print(f\"Random Tensor Shape:\\t{random_tensor.shape}\")\n",
    "\n",
    "# Create a max_pool layer\n",
    "max_pool_layer = nn.MaxPool2d(kernel_size=2)\n",
    "\n",
    "max_pool_tensor = max_pool_layer(random_tensor)\n",
    "print(f\"Max pool Tensor:\\t {max_pool_tensor}\")\n",
    "print(f\"Max pool Tensor Shape:\\t {max_pool_tensor.shape}\")"
   ]
  },
  {
   "cell_type": "markdown",
   "id": "5686f4f0",
   "metadata": {},
   "source": [
    "#### Now let's test our model with a dummy data"
   ]
  },
  {
   "cell_type": "code",
   "execution_count": 21,
   "id": "78d94603",
   "metadata": {
    "scrolled": false
   },
   "outputs": [
    {
     "data": {
      "text/plain": [
       "<matplotlib.image.AxesImage at 0x2938db9b5b0>"
      ]
     },
     "execution_count": 21,
     "metadata": {},
     "output_type": "execute_result"
    },
    {
     "data": {
      "image/png": "[encoded data removed]",
      "text/plain": [
       "<Figure size 1200x720 with 1 Axes>"
      ]
     },
     "metadata": {},
     "output_type": "display_data"
    }
   ],
   "source": [
    "plt.imshow(img.squeeze(), cmap='gray')"
   ]
  },
  {
   "cell_type": "code",
   "execution_count": 22,
   "id": "f1c3d0af",
   "metadata": {},
   "outputs": [
    {
     "data": {
      "text/plain": [
       "torch.Size([1, 28, 28])"
      ]
     },
     "execution_count": 22,
     "metadata": {},
     "output_type": "execute_result"
    }
   ],
   "source": [
    "torch.manual_seed(42)\n",
    "random_img_tensor = torch.randn(size=(1,28,28))\n",
    "random_img_tensor.shape"
   ]
  },
  {
   "cell_type": "code",
   "execution_count": 23,
   "id": "4bd1d807",
   "metadata": {},
   "outputs": [
    {
     "data": {
      "text/plain": [
       "tensor([[ 0.0505, -0.0729,  0.0821, -0.0451, -0.0044,  0.0383,  0.0061, -0.0016,\n",
       "         -0.0127, -0.0081]], device='cuda:0', grad_fn=<AddmmBackward0>)"
      ]
     },
     "execution_count": 23,
     "metadata": {},
     "output_type": "execute_result"
    }
   ],
   "source": [
    "# Pass the random image first through model\n",
    "model_1(random_img_tensor.unsqueeze(0).to(device))"
   ]
  },
  {
   "cell_type": "markdown",
   "id": "6b6e8a05",
   "metadata": {},
   "source": [
    "### How to calculate the input for the flatten layer?\n",
    "\n",
    "In general, we put the flatten layer just before our classifier layer. Therefore, the Flatten layer sits between the last Convolutional Block and Classifier layer. So, if we can know what is the output shape of the last Conv Block, we can calculate the input shape for the Flatten layer.\n",
    "\n",
    "\n",
    "As we can see from above, the last block, which is Block_2, before the Flatten layer and it's shape is `Block_2 Output Shape : torch.Size([1, 10, 7, 7])`, we simply can flatten this output shape by calculating = `(10 * 7 * 7) = 490`, where 10 is the hidden layers of the last block and (7, 7) is the height and weight of the output. So we can just put `7 * 7` in the classifier layer like this:\n",
    "\n",
    "    # 3. Classifier Layers\n",
    "            self.classifier = nn.Sequential(\n",
    "                nn.Flatten(),\n",
    "                nn.Linear(in_features=hidden_units*7*7,\n",
    "                          out_features=output_shape)\n",
    "            )\n",
    "\n",
    "For better visualization perpose, see this:\n",
    "<img src=\"../resources/ConvLayer_shape_calculation.png\"  width=100%></img>"
   ]
  },
  {
   "cell_type": "markdown",
   "id": "468c0bc0",
   "metadata": {},
   "source": [
    "#### Finally, train the data with our Model"
   ]
  },
  {
   "cell_type": "code",
   "execution_count": 24,
   "id": "4fcaec1b",
   "metadata": {},
   "outputs": [
    {
     "name": "stdout",
     "output_type": "stream",
     "text": [
      "`helper_functions.py` already exists, skipping download!\n",
      "Path of `helper_functions.py` is located at:\n",
      " C:\\Users\\MUBASHIR MOHSIN\\OneDrive\\EDUCATIONAL\\SELF-STUDY\\ML, DL & CVPR\\Journey-with-PyTorch\\resources\n"
     ]
    }
   ],
   "source": [
    "## Import the helper function\n",
    "import requests\n",
    "from pathlib import Path\n",
    "import sys  # Import the sys module\n",
    "\n",
    "if Path(r\"..\\resources\\helper_functions.py\").is_file():\n",
    "    print(\"`helper_functions.py` already exists, skipping download!\")\n",
    "else:\n",
    "    print(\"Downloading `helper_functions.py`...\")\n",
    "    request = requests.get(\"https://raw.githubusercontent.com/mrdbourke/pytorch-deep-learning/refs/heads/main/helper_functions.py\")\n",
    "    with open(r\"..\\resources\\helper_functions.py\", \"wb\") as f:\n",
    "        f.write(request.content)\n",
    "        \n",
    "# Get the path to the directory containing helper_functions.py\n",
    "helper_functions_dir = Path(r\"..\\resources\").resolve()  # Use resolve() for absolute path\n",
    "print(\"Path of `helper_functions.py` is located at:\\n\", helper_functions_dir)\n",
    "# Add the directory to sys.path\n",
    "sys.path.append(str(helper_functions_dir))"
   ]
  },
  {
   "cell_type": "code",
   "execution_count": 25,
   "id": "a9805149",
   "metadata": {},
   "outputs": [],
   "source": [
    "# Setup loss function, optimizer, and evaluation metrics\n",
    "from helper_functions import accuracy_fn\n",
    "\n",
    "loss_fn = nn.CrossEntropyLoss()\n",
    "optimizer = torch.optim.SGD(params=model_1.parameters(),\n",
    "                            lr = 0.1)"
   ]
  },
  {
   "cell_type": "code",
   "execution_count": 26,
   "id": "385709db",
   "metadata": {},
   "outputs": [],
   "source": [
    "# Create a function for training and evaluating\n",
    "\n",
    "def training_step(model: torch.nn.Module,\n",
    "                  data_loader: torch.utils.data.DataLoader,\n",
    "                  loss_fn: torch.nn.Module,\n",
    "                  optimizer: torch.optim.Optimizer,\n",
    "                  accuracy_fn,\n",
    "                  device: torch.device = device):\n",
    "    \n",
    "    train_acc, train_loss = 0, 0\n",
    "    \n",
    "    '''Put model on the train mode'''\n",
    "    model.train()\n",
    "    \n",
    "    for epoch in tqdm(range(epochs)):\n",
    "        print(f\"Epoch: {epoch}\\n------\")\n",
    "\n",
    "    # Add a loop to loop through training batches\n",
    "    for batch, (X, y) in enumerate(data_loader):\n",
    "        '''Put data on the target device'''\n",
    "        X, y = X.to(device), y.to(device)\n",
    "        \n",
    "        '''1. Forward Pass'''\n",
    "        y_pred = model(X)\n",
    "        \n",
    "        '''2. Calculate loss and accuracy (per batch)'''\n",
    "        loss = loss_fn(y_pred, y)\n",
    "        train_loss += loss\n",
    "        train_acc += accuracy_fn(y_true=y,\n",
    "                                 y_pred=y_pred.argmax(dim=1))\n",
    "        \n",
    "        '''3. Optimizer zero grad'''\n",
    "        optimizer.zero_grad()\n",
    "        \n",
    "        '''4. Loss Backward'''\n",
    "        loss.backward()\n",
    "        \n",
    "        '''5. Optimizer Step'''\n",
    "        optimizer.step()\n",
    "\n",
    "    # Divide total train loss and accuracy by length of train dataloader\n",
    "    train_loss /= len(data_loader)\n",
    "    train_acc /= len(data_loader)\n",
    "    print(f\"| Train Loss: {train_loss:.4f}  |  Train Acc: {train_acc:.4f}% |\")"
   ]
  },
  {
   "cell_type": "code",
   "execution_count": 27,
   "id": "85e2adb8",
   "metadata": {},
   "outputs": [],
   "source": [
    "# Create a function for training and evaluating\n",
    "\n",
    "def test_step(model: torch.nn.Module, \n",
    "              data_loader: torch.utils.data.DataLoader, \n",
    "              loss_fn: torch.nn.Module, \n",
    "              accuracy_fn,\n",
    "              device: torch.device = device):\n",
    "    \n",
    "    test_acc, test_loss = 0, 0\n",
    "    \n",
    "    '''Put model on the eval mode'''\n",
    "    model.eval()\n",
    "    \n",
    "    # Turn on inference mode context manager\n",
    "    with torch.inference_mode():\n",
    "        for X, y in data_loader:\n",
    "            # Send data to the target device\n",
    "            X, y = X.to(device), y.to(device)\n",
    "            \n",
    "            '''1. Forward Pass'''\n",
    "            test_pred = model(X)\n",
    "            \n",
    "            '''2. Calculate the loss'''\n",
    "            test_loss += loss_fn(test_pred, y)\n",
    "            test_acc += accuracy_fn(y_true=y,\n",
    "                                    y_pred=test_pred.argmax(dim=1))\n",
    "            \n",
    "        # Adjust metrics and print results\n",
    "        test_loss /= len(data_loader)\n",
    "        test_acc /= len(data_loader)\n",
    "        print(f\"| Test Loss: {test_loss:.4f}  |  Test Acc: {test_acc:.4f}% |\\n\")"
   ]
  },
  {
   "cell_type": "markdown",
   "id": "2aeb30cf",
   "metadata": {},
   "source": [
    "#### Training and Testing model_1 using functions"
   ]
  },
  {
   "cell_type": "code",
   "execution_count": 28,
   "id": "8524ae3c",
   "metadata": {},
   "outputs": [],
   "source": [
    "from timeit import default_timer as timer\n",
    "from tqdm import tqdm\n",
    "\n",
    "## Create a function to time experiments\n",
    "def print_train_time(start: float,\n",
    "                    end: float,\n",
    "                    device: torch.device = None):\n",
    "    '''Prints difference between start and end time.'''\n",
    "    total_time = end - start\n",
    "    print(f\"Train time on {device}: {total_time:.3f} seconds\")\n",
    "    return total_time"
   ]
  },
  {
   "cell_type": "code",
   "execution_count": 29,
   "id": "2ae09b22",
   "metadata": {},
   "outputs": [],
   "source": [
    "def train_and_test(model, \n",
    "                   train_dataloader, test_dataloader, \n",
    "                   loss_fn, optimizer, accuracy_fn, \n",
    "                   device, epochs):\n",
    "    # Set random seeds for reproducibility\n",
    "    torch.manual_seed(42)\n",
    "    torch.cuda.manual_seed(42)\n",
    "    \n",
    "    # Measure training time\n",
    "    train_time_start = timer()\n",
    "\n",
    "    for epoch in range(epochs):\n",
    "        print(f\"Epoch: {epoch} \\n------------\")\n",
    "        \n",
    "        # Training steps\n",
    "        training_step(model=model,\n",
    "                      data_loader=train_dataloader,\n",
    "                      loss_fn=loss_fn,\n",
    "                      optimizer=optimizer,\n",
    "                      accuracy_fn=accuracy_fn,\n",
    "                      device=device)\n",
    "        \n",
    "        # Testing steps\n",
    "        test_step(model=model,\n",
    "                  data_loader=test_dataloader,\n",
    "                  loss_fn=loss_fn,\n",
    "                  accuracy_fn=accuracy_fn,\n",
    "                  device=device)\n",
    "\n",
    "    # Calculate total training time\n",
    "    train_time_end = timer()\n",
    "    total_train_time = print_train_time(start=train_time_start, \n",
    "                                        end=train_time_end,\n",
    "                                        device=device)\n",
    "    return total_train_time"
   ]
  },
  {
   "cell_type": "code",
   "execution_count": 30,
   "id": "a696cbad",
   "metadata": {},
   "outputs": [
    {
     "name": "stdout",
     "output_type": "stream",
     "text": [
      "Epoch: 0 \n",
      "------------\n"
     ]
    },
    {
     "name": "stderr",
     "output_type": "stream",
     "text": [
      "100%|████████████████████████████████████████████████████████████████████████████████████████████| 3/3 [00:00<?, ?it/s]"
     ]
    },
    {
     "name": "stdout",
     "output_type": "stream",
     "text": [
      "Epoch: 0\n",
      "------\n",
      "Epoch: 1\n",
      "------\n",
      "Epoch: 2\n",
      "------\n"
     ]
    },
    {
     "name": "stderr",
     "output_type": "stream",
     "text": [
      "\n"
     ]
    },
    {
     "name": "stdout",
     "output_type": "stream",
     "text": [
      "| Train Loss: 0.6069  |  Train Acc: 78.0517% |\n",
      "| Test Loss: 0.4139  |  Test Acc: 85.3534% |\n",
      "\n",
      "Epoch: 1 \n",
      "------------\n"
     ]
    },
    {
     "name": "stderr",
     "output_type": "stream",
     "text": [
      "100%|████████████████████████████████████████████████████████████████████████████████████████████| 3/3 [00:00<?, ?it/s]"
     ]
    },
    {
     "name": "stdout",
     "output_type": "stream",
     "text": [
      "Epoch: 0\n",
      "------\n",
      "Epoch: 1\n",
      "------\n",
      "Epoch: 2\n",
      "------\n"
     ]
    },
    {
     "name": "stderr",
     "output_type": "stream",
     "text": [
      "\n"
     ]
    },
    {
     "name": "stdout",
     "output_type": "stream",
     "text": [
      "| Train Loss: 0.3629  |  Train Acc: 86.8317% |\n",
      "| Test Loss: 0.3692  |  Test Acc: 86.7712% |\n",
      "\n",
      "Epoch: 2 \n",
      "------------\n"
     ]
    },
    {
     "name": "stderr",
     "output_type": "stream",
     "text": [
      "100%|████████████████████████████████████████████████████████████████████████████████████████████| 3/3 [00:00<?, ?it/s]"
     ]
    },
    {
     "name": "stdout",
     "output_type": "stream",
     "text": [
      "Epoch: 0\n",
      "------\n",
      "Epoch: 1\n",
      "------\n",
      "Epoch: 2\n",
      "------\n"
     ]
    },
    {
     "name": "stderr",
     "output_type": "stream",
     "text": [
      "\n"
     ]
    },
    {
     "name": "stdout",
     "output_type": "stream",
     "text": [
      "| Train Loss: 0.3242  |  Train Acc: 88.3150% |\n",
      "| Test Loss: 0.3202  |  Test Acc: 88.8079% |\n",
      "\n",
      "Train time on cuda: 34.294 seconds\n"
     ]
    }
   ],
   "source": [
    "epochs = 3\n",
    "total_train_time = train_and_test(model=model_1, \n",
    "                                  train_dataloader=train_dataloader, \n",
    "                                  test_dataloader=test_dataloader, \n",
    "                                  loss_fn=loss_fn, \n",
    "                                  optimizer=optimizer, \n",
    "                                  accuracy_fn=accuracy_fn, \n",
    "                                  device=device, \n",
    "                                  epochs=epochs)"
   ]
  },
  {
   "cell_type": "code",
   "execution_count": 31,
   "id": "7b0d756c",
   "metadata": {},
   "outputs": [],
   "source": [
    "torch.manual_seed(42)\n",
    "def eval_model(model: torch.nn.Module,\n",
    "               data_loader: torch.utils.data.DataLoader,\n",
    "               loss_fn: torch.nn.Module,\n",
    "               accuracy_fn,\n",
    "               device=None):\n",
    "    \"\"\"Returns a dict containing the results of model predicting on the DataLoader\"\"\"\n",
    "    loss, acc = 0,0\n",
    "    model.eval()\n",
    "    with torch.inference_mode():\n",
    "        for X, y in tqdm(data_loader):\n",
    "            # Send data to the target device\n",
    "            X, y = X.to(device), y.to(device)\n",
    "            # Make predictions\n",
    "            y_pred = model(X)\n",
    "            \n",
    "            # Accumulate loss and acc values per batch\n",
    "            loss += loss_fn(y_pred, y)\n",
    "            acc += accuracy_fn(y_true=y, \n",
    "                               y_pred=y_pred.argmax(dim=1))\n",
    "            \n",
    "        # Scale loss and acc to find the avg loss/acc per batch\n",
    "        loss /= len(data_loader)\n",
    "        acc /= len(data_loader)\n",
    "        \n",
    "    return {\"model_name\": model.__class__.__name__, # only works when model was created with a class \n",
    "            \"model_loss\": loss.item(),\n",
    "            \"model_acc\": acc}"
   ]
  },
  {
   "cell_type": "code",
   "execution_count": 32,
   "id": "beb313a8",
   "metadata": {},
   "outputs": [],
   "source": [
    "# Create and store the dictionary in a variable\n",
    "model_0_results = {\n",
    "    'model_name': 'FashionMNISTModel0',\n",
    "    'model_loss': 0.47663894295692444,\n",
    "    'model_acc': 83.42651757188499\n",
    "}\n",
    "\n",
    "model_1_results = {\n",
    "    'model_name': 'FashionMNISTModel1',\n",
    "    'model_loss': 0.6850008368492126,\n",
    "    'model_acc': 75.01996805111821\n",
    "}"
   ]
  },
  {
   "cell_type": "code",
   "execution_count": 33,
   "id": "8fa47693",
   "metadata": {},
   "outputs": [
    {
     "name": "stderr",
     "output_type": "stream",
     "text": [
      "100%|███████████████████████████████████████████████████████████████████████████████| 313/313 [00:01<00:00, 244.05it/s]\n"
     ]
    },
    {
     "data": {
      "text/plain": [
       "{'model_name': 'FashionMNISTModel2',\n",
       " 'model_loss': 0.32016807794570923,\n",
       " 'model_acc': 88.80790734824281}"
      ]
     },
     "execution_count": 33,
     "metadata": {},
     "output_type": "execute_result"
    }
   ],
   "source": [
    "# Get the results dict\n",
    "model_2_results = eval_model(\n",
    "    model=model_1,\n",
    "    data_loader=test_dataloader,\n",
    "    loss_fn=loss_fn,\n",
    "    accuracy_fn=accuracy_fn,\n",
    "    device=device\n",
    ")\n",
    "model_2_results"
   ]
  },
  {
   "cell_type": "markdown",
   "id": "85db6153",
   "metadata": {},
   "source": [
    "### Compare Our All Saved Models"
   ]
  },
  {
   "cell_type": "code",
   "execution_count": 34,
   "id": "b5071f2c",
   "metadata": {},
   "outputs": [
    {
     "data": {
      "text/html": [
       "<div>\n",
       "<style scoped>\n",
       "    .dataframe tbody tr th:only-of-type {\n",
       "        vertical-align: middle;\n",
       "    }\n",
       "\n",
       "    .dataframe tbody tr th {\n",
       "        vertical-align: top;\n",
       "    }\n",
       "\n",
       "    .dataframe thead th {\n",
       "        text-align: right;\n",
       "    }\n",
       "</style>\n",
       "<table border=\"1\" class=\"dataframe\">\n",
       "  <thead>\n",
       "    <tr style=\"text-align: right;\">\n",
       "      <th></th>\n",
       "      <th>model_name</th>\n",
       "      <th>model_loss</th>\n",
       "      <th>model_acc</th>\n",
       "    </tr>\n",
       "  </thead>\n",
       "  <tbody>\n",
       "    <tr>\n",
       "      <th>0</th>\n",
       "      <td>FashionMNISTModel0</td>\n",
       "      <td>0.476639</td>\n",
       "      <td>83.426518</td>\n",
       "    </tr>\n",
       "    <tr>\n",
       "      <th>1</th>\n",
       "      <td>FashionMNISTModel1</td>\n",
       "      <td>0.685001</td>\n",
       "      <td>75.019968</td>\n",
       "    </tr>\n",
       "    <tr>\n",
       "      <th>2</th>\n",
       "      <td>FashionMNISTModel2</td>\n",
       "      <td>0.320168</td>\n",
       "      <td>88.807907</td>\n",
       "    </tr>\n",
       "  </tbody>\n",
       "</table>\n",
       "</div>"
      ],
      "text/plain": [
       "           model_name  model_loss  model_acc\n",
       "0  FashionMNISTModel0    0.476639  83.426518\n",
       "1  FashionMNISTModel1    0.685001  75.019968\n",
       "2  FashionMNISTModel2    0.320168  88.807907"
      ]
     },
     "execution_count": 34,
     "metadata": {},
     "output_type": "execute_result"
    }
   ],
   "source": [
    "import pandas as pd\n",
    "\n",
    "compare_results = pd.DataFrame([model_0_results, \n",
    "                                model_1_results,\n",
    "                                model_2_results])\n",
    "compare_results"
   ]
  },
  {
   "cell_type": "code",
   "execution_count": 35,
   "id": "a06c75ba",
   "metadata": {},
   "outputs": [
    {
     "data": {
      "text/html": [
       "<div>\n",
       "<style scoped>\n",
       "    .dataframe tbody tr th:only-of-type {\n",
       "        vertical-align: middle;\n",
       "    }\n",
       "\n",
       "    .dataframe tbody tr th {\n",
       "        vertical-align: top;\n",
       "    }\n",
       "\n",
       "    .dataframe thead th {\n",
       "        text-align: right;\n",
       "    }\n",
       "</style>\n",
       "<table border=\"1\" class=\"dataframe\">\n",
       "  <thead>\n",
       "    <tr style=\"text-align: right;\">\n",
       "      <th></th>\n",
       "      <th>model_name</th>\n",
       "      <th>model_loss</th>\n",
       "      <th>model_acc</th>\n",
       "      <th>training_time</th>\n",
       "    </tr>\n",
       "  </thead>\n",
       "  <tbody>\n",
       "    <tr>\n",
       "      <th>0</th>\n",
       "      <td>FashionMNISTModel0</td>\n",
       "      <td>0.476639</td>\n",
       "      <td>83.426518</td>\n",
       "      <td>21.925000</td>\n",
       "    </tr>\n",
       "    <tr>\n",
       "      <th>1</th>\n",
       "      <td>FashionMNISTModel1</td>\n",
       "      <td>0.685001</td>\n",
       "      <td>75.019968</td>\n",
       "      <td>27.688000</td>\n",
       "    </tr>\n",
       "    <tr>\n",
       "      <th>2</th>\n",
       "      <td>FashionMNISTModel2</td>\n",
       "      <td>0.320168</td>\n",
       "      <td>88.807907</td>\n",
       "      <td>34.294267</td>\n",
       "    </tr>\n",
       "  </tbody>\n",
       "</table>\n",
       "</div>"
      ],
      "text/plain": [
       "           model_name  model_loss  model_acc  training_time\n",
       "0  FashionMNISTModel0    0.476639  83.426518      21.925000\n",
       "1  FashionMNISTModel1    0.685001  75.019968      27.688000\n",
       "2  FashionMNISTModel2    0.320168  88.807907      34.294267"
      ]
     },
     "execution_count": 35,
     "metadata": {},
     "output_type": "execute_result"
    }
   ],
   "source": [
    "total_train_time_model_0 = 21.925\n",
    "total_train_time_model_1 = 27.688\n",
    "\n",
    "compare_results[\"training_time\"] = [total_train_time_model_0,\n",
    "                                    total_train_time_model_1,\n",
    "                                    total_train_time]\n",
    "compare_results"
   ]
  },
  {
   "cell_type": "markdown",
   "id": "fd056d02",
   "metadata": {},
   "source": [
    "## Visualize our model results"
   ]
  },
  {
   "cell_type": "code",
   "execution_count": 36,
   "id": "1ac3dc6e",
   "metadata": {},
   "outputs": [
    {
     "data": {
      "image/png": "[encoded data removed]",
      "text/plain": [
       "<Figure size 1200x720 with 1 Axes>"
      ]
     },
     "metadata": {},
     "output_type": "display_data"
    }
   ],
   "source": [
    "compare_results.set_index(\"model_name\")[\"model_acc\"].plot(kind=\"barh\")\n",
    "plt.xlabel(\"accuracy (%)\")\n",
    "plt.ylabel(\"model\");"
   ]
  },
  {
   "cell_type": "code",
   "execution_count": 37,
   "id": "67dd93e4",
   "metadata": {},
   "outputs": [],
   "source": [
    "## Make and evaluate random prediction with best model\n",
    "\n",
    "def make_predictions(model: torch.nn.Module,\n",
    "                     data: list,\n",
    "                     device: torch.device = device):\n",
    "    pred_probs = []\n",
    "    model.eval()\n",
    "    with torch.inference_mode():\n",
    "        for sample in data:\n",
    "            # prepare the sample\n",
    "            sample = torch.unsqueeze(sample, dim=0).to(device)\n",
    "            \n",
    "            # Forward pass\n",
    "            pred_logit = model(sample)\n",
    "            \n",
    "            # Get the Prediction Probs\n",
    "            pred_prob = torch.softmax(pred_logit.squeeze(0), dim=0)\n",
    "            \n",
    "            # Get pred_prob off the GPU for calculations\n",
    "            pred_probs.append(pred_prob.cpu())\n",
    "            \n",
    "    # Stack the pred_probs to turn list into a tensor\n",
    "    return torch.stack(pred_probs)"
   ]
  },
  {
   "cell_type": "code",
   "execution_count": 38,
   "id": "3331cb26",
   "metadata": {},
   "outputs": [
    {
     "data": {
      "text/plain": [
       "torch.Size([1, 28, 28])"
      ]
     },
     "execution_count": 38,
     "metadata": {},
     "output_type": "execute_result"
    }
   ],
   "source": [
    "import random\n",
    "#random.seed(42)\n",
    "\n",
    "test_samples = []\n",
    "test_labels = []\n",
    "\n",
    "for sample, label in random.sample(list(test_data), k=9):\n",
    "    test_samples.append(sample)\n",
    "    test_labels.append(label)\n",
    "    \n",
    "# View the firrst sample shape\n",
    "test_samples[0].shape"
   ]
  },
  {
   "cell_type": "code",
   "execution_count": 39,
   "id": "191a4c65",
   "metadata": {},
   "outputs": [
    {
     "data": {
      "text/plain": [
       "Text(0.5, 1.0, 'Bag')"
      ]
     },
     "execution_count": 39,
     "metadata": {},
     "output_type": "execute_result"
    },
    {
     "data": {
      "image/png": "[encoded data removed]",
      "text/plain": [
       "<Figure size 1200x720 with 1 Axes>"
      ]
     },
     "metadata": {},
     "output_type": "display_data"
    }
   ],
   "source": [
    "plt.imshow(test_samples[0].squeeze(), cmap='gray')\n",
    "plt.title(class_names[test_labels[0]])"
   ]
  },
  {
   "cell_type": "code",
   "execution_count": 40,
   "id": "3f37e06f",
   "metadata": {},
   "outputs": [
    {
     "data": {
      "text/plain": [
       "tensor([[1.8863e-03, 2.9235e-06, 3.6486e-04, 2.1661e-06, 1.4543e-04, 1.5557e-05,\n",
       "         4.9690e-04, 5.2642e-04, 9.9544e-01, 1.1150e-03],\n",
       "        [7.1385e-05, 2.8504e-07, 4.3389e-04, 1.9224e-05, 9.0455e-04, 3.5057e-05,\n",
       "         1.5068e-04, 1.6977e-04, 9.9821e-01, 8.0189e-06]])"
      ]
     },
     "execution_count": 40,
     "metadata": {},
     "output_type": "execute_result"
    }
   ],
   "source": [
    "# Make predictions\n",
    "pred_probs = make_predictions(model=model_1,\n",
    "                              data=test_samples)\n",
    "\n",
    "# View first two prediction probabilties\n",
    "pred_probs[:2]"
   ]
  },
  {
   "cell_type": "code",
   "execution_count": 41,
   "id": "6ad97ea2",
   "metadata": {},
   "outputs": [
    {
     "data": {
      "text/plain": [
       "tensor([8, 8, 0, 9, 6, 5, 5, 1, 5])"
      ]
     },
     "execution_count": 41,
     "metadata": {},
     "output_type": "execute_result"
    }
   ],
   "source": [
    "# Convert prediction probabilities into labels\n",
    "pred_classes = pred_probs.argmax(dim=1)\n",
    "pred_classes"
   ]
  },
  {
   "cell_type": "code",
   "execution_count": 42,
   "id": "f88e93d3",
   "metadata": {},
   "outputs": [
    {
     "data": {
      "text/plain": [
       "[8, 8, 0, 9, 6, 5, 5, 1, 5]"
      ]
     },
     "execution_count": 42,
     "metadata": {},
     "output_type": "execute_result"
    }
   ],
   "source": [
    "test_labels"
   ]
  },
  {
   "cell_type": "code",
   "execution_count": 43,
   "id": "d72d8a71",
   "metadata": {},
   "outputs": [
    {
     "data": {
      "image/png": "[encoded data removed]",
      "text/plain": [
       "<Figure size 1080x1080 with 9 Axes>"
      ]
     },
     "metadata": {},
     "output_type": "display_data"
    }
   ],
   "source": [
    "# Plot predictions\n",
    "plt.figure(figsize=(9, 9))\n",
    "nrows = 3\n",
    "ncols = 3\n",
    "\n",
    "for i, sample in enumerate(test_samples):\n",
    "    # Creat a subplot\n",
    "    plt.subplot(nrows, ncols, i+1)\n",
    "    \n",
    "    # Plot the target image\n",
    "    plt.imshow(sample.squeeze(), cmap='gray')\n",
    "    \n",
    "    # Find the prediction labels in text form\n",
    "    pred_label = class_names[pred_classes[i]]\n",
    "    \n",
    "    # Get he truth label\n",
    "    truth_label = class_names[test_labels[i]]\n",
    "    \n",
    "    # Create a title for the plot\n",
    "    title_text = f\"Pred: {pred_label} | Truth: {truth_label}\"\n",
    "    \n",
    "    # Check for equality between pred and truth to change color\n",
    "    if pred_label == truth_label:\n",
    "        plt.title(title_text, fontsize=10, color='forestgreen')\n",
    "    else:\n",
    "        plt.title(title_text, fontsize=10, color='tomato')\n",
    "        \n",
    "    plt.axis(False)"
   ]
  },
  {
   "cell_type": "code",
   "execution_count": 44,
   "id": "ce548dc5",
   "metadata": {},
   "outputs": [
    {
     "name": "stderr",
     "output_type": "stream",
     "text": [
      "Making Predictions...: 100%|████████████████████████████████████████████████████████| 313/313 [00:01<00:00, 237.03it/s]\n"
     ]
    },
    {
     "data": {
      "text/plain": [
       "tensor([9, 2, 1, 1, 6, 1, 4, 6, 5, 7])"
      ]
     },
     "execution_count": 44,
     "metadata": {},
     "output_type": "execute_result"
    }
   ],
   "source": [
    "y_preds = []\n",
    "model_1.eval()\n",
    "with torch.inference_mode():\n",
    "    for X, y in tqdm(test_dataloader, desc=\"Making Predictions...\"):\n",
    "        # Send the data and targets tor target device\n",
    "        X, y = X.to(device), y.to(device)\n",
    "        # Do the forward pass\n",
    "        y_logit = model_1(X)\n",
    "        # Turn preds from logits -> pred_probs -> pred_labels\n",
    "        y_pred = torch.softmax(y_logit.squeeze(), dim=0).argmax(dim=1)\n",
    "        # Put preds on CPU for evaluation\n",
    "        y_preds.append(y_pred.cpu())\n",
    "        \n",
    "# Concat list of preds into a tensor\n",
    "#print(y_preds)\n",
    "y_pred_tensor = torch.cat(y_preds)\n",
    "y_pred_tensor[:10]"
   ]
  },
  {
   "cell_type": "code",
   "execution_count": 45,
   "id": "c96efe5d",
   "metadata": {},
   "outputs": [
    {
     "name": "stdout",
     "output_type": "stream",
     "text": [
      "0.23.1\n"
     ]
    }
   ],
   "source": [
    "import torchmetrics\n",
    "import mlxtend\n",
    "\n",
    "print(mlxtend.__version__)"
   ]
  },
  {
   "cell_type": "code",
   "execution_count": 46,
   "id": "016ce7d3",
   "metadata": {},
   "outputs": [
    {
     "data": {
      "image/png": "[encoded data removed]",
      "text/plain": [
       "<Figure size 1200x840 with 1 Axes>"
      ]
     },
     "metadata": {},
     "output_type": "display_data"
    }
   ],
   "source": [
    "from torchmetrics import ConfusionMatrix\n",
    "from mlxtend.plotting import plot_confusion_matrix\n",
    "\n",
    "# Setup ConfMat instance\n",
    "conf_mat = ConfusionMatrix(num_classes=len(class_names), task=\"multiclass\")\n",
    "conf_mat_tensor = conf_mat(preds=y_pred_tensor,\n",
    "                           target=test_data.targets)\n",
    "\n",
    "fig, ax = plot_confusion_matrix(\n",
    "    conf_mat = conf_mat_tensor.numpy(),\n",
    "    class_names=class_names,\n",
    "    figsize=(10,7)\n",
    ")"
   ]
  },
  {
   "cell_type": "markdown",
   "id": "5a13a42b",
   "metadata": {},
   "source": [
    "### Save this model"
   ]
  },
  {
   "cell_type": "code",
   "execution_count": 47,
   "id": "2fc59837",
   "metadata": {},
   "outputs": [
    {
     "name": "stdout",
     "output_type": "stream",
     "text": [
      "Model 1 Path:\tmodels\\cv_conv_model_1.pth\n",
      "Saving Model2 to:\tmodels\\cv_conv_model_1.pth\n"
     ]
    }
   ],
   "source": [
    "# Saving our PyTorch Model\n",
    "from pathlib import Path\n",
    "\n",
    "# Create Model Directory\n",
    "MODEL_PATH = Path(\"models\")\n",
    "MODEL_PATH.mkdir(parents=True, exist_ok=True)\n",
    "\n",
    "# Create model save path\n",
    "MODEL_2_NAME = \"cv_conv_model_1.pth\"\n",
    "\n",
    "MODEL2_SAVE_PATH = MODEL_PATH / MODEL_2_NAME\n",
    "\n",
    "print(f\"Model 1 Path:\\t{MODEL2_SAVE_PATH}\")\n",
    "\n",
    "# Save the model with `state_dict()`\n",
    "print(f\"Saving Model2 to:\\t{MODEL2_SAVE_PATH}\")\n",
    "torch.save(obj=model_1.state_dict(), \n",
    "           f=MODEL2_SAVE_PATH)"
   ]
  },
  {
   "cell_type": "code",
   "execution_count": 48,
   "id": "802de958",
   "metadata": {},
   "outputs": [
    {
     "data": {
      "text/plain": [
       "FashionMNISTModel2(\n",
       "  (conv_block_1): Sequential(\n",
       "    (0): Conv2d(1, 10, kernel_size=(3, 3), stride=(1, 1), padding=(1, 1))\n",
       "    (1): ReLU()\n",
       "    (2): Conv2d(10, 10, kernel_size=(3, 3), stride=(1, 1), padding=(1, 1))\n",
       "    (3): ReLU()\n",
       "    (4): MaxPool2d(kernel_size=2, stride=2, padding=0, dilation=1, ceil_mode=False)\n",
       "  )\n",
       "  (conv_block_2): Sequential(\n",
       "    (0): Conv2d(10, 10, kernel_size=(3, 3), stride=(1, 1), padding=(1, 1))\n",
       "    (1): ReLU()\n",
       "    (2): Conv2d(10, 10, kernel_size=(3, 3), stride=(1, 1), padding=(1, 1))\n",
       "    (3): ReLU()\n",
       "    (4): MaxPool2d(kernel_size=2, stride=2, padding=0, dilation=1, ceil_mode=False)\n",
       "  )\n",
       "  (classifier): Sequential(\n",
       "    (0): Flatten(start_dim=1, end_dim=-1)\n",
       "    (1): Linear(in_features=490, out_features=10, bias=True)\n",
       "  )\n",
       ")"
      ]
     },
     "execution_count": 48,
     "metadata": {},
     "output_type": "execute_result"
    }
   ],
   "source": [
    "torch.manual_seed(42)\n",
    "\n",
    "loaded_model_2 = FashionMNISTModel2(input_shape=1,\n",
    "                                    hidden_units=10,\n",
    "                                    output_shape=len(class_names))\n",
    "\n",
    "# Load in the save state_dict()\n",
    "loaded_model_2.load_state_dict(torch.load(f=MODEL2_SAVE_PATH, weights_only=False))\n",
    "\n",
    "# Send the model to target device\n",
    "loaded_model_2.to(device)"
   ]
  },
  {
   "cell_type": "code",
   "execution_count": 49,
   "id": "ab7f6181",
   "metadata": {},
   "outputs": [
    {
     "name": "stdout",
     "output_type": "stream",
     "text": [
      "Model_2 Results Before Saving\n",
      " {'model_name': 'FashionMNISTModel2', 'model_loss': 0.32016807794570923, 'model_acc': 88.80790734824281}\n"
     ]
    },
    {
     "name": "stderr",
     "output_type": "stream",
     "text": [
      "100%|███████████████████████████████████████████████████████████████████████████████| 313/313 [00:01<00:00, 224.37it/s]"
     ]
    },
    {
     "name": "stdout",
     "output_type": "stream",
     "text": [
      "Model_2 Results After Saving and Loading\n",
      " {'model_name': 'FashionMNISTModel2', 'model_loss': 0.32016807794570923, 'model_acc': 88.80790734824281}\n"
     ]
    },
    {
     "name": "stderr",
     "output_type": "stream",
     "text": [
      "\n"
     ]
    }
   ],
   "source": [
    "# Evaluate the loaded model\n",
    "print(f\"Model_2 Results Before Saving\\n {model_2_results}\")\n",
    "\n",
    "torch.manual_seed(42)\n",
    "\n",
    "loaded_model_2_results = eval_model(\n",
    "    model=loaded_model_2,\n",
    "    data_loader=test_dataloader,\n",
    "    loss_fn=loss_fn,\n",
    "    accuracy_fn=accuracy_fn,\n",
    "    device=device\n",
    ")\n",
    "print(\"Model_2 Results After Saving and Loading\\n\", loaded_model_2_results )"
   ]
  },
  {
   "cell_type": "code",
   "execution_count": 50,
   "id": "e411c48e",
   "metadata": {},
   "outputs": [
    {
     "data": {
      "text/plain": [
       "tensor(True)"
      ]
     },
     "execution_count": 50,
     "metadata": {},
     "output_type": "execute_result"
    }
   ],
   "source": [
    "# Check if model results are close to each other\n",
    "\n",
    "torch.isclose(torch.tensor(model_2_results[\"model_loss\"]), \n",
    "              torch.tensor(loaded_model_2_results[\"model_loss\"]),\n",
    "              atol=1e-02 # tolerance level\n",
    "             )"
   ]
  }
 ],
 "metadata": {
  "kernelspec": {
   "display_name": "Pytorch (CUDA)",
   "language": "python",
   "name": "pytorch"
  },
  "language_info": {
   "codemirror_mode": {
    "name": "ipython",
    "version": 3
   },
   "file_extension": ".py",
   "mimetype": "text/x-python",
   "name": "python",
   "nbconvert_exporter": "python",
   "pygments_lexer": "ipython3",
   "version": "3.9.20"
  }
 },
 "nbformat": 4,
 "nbformat_minor": 5
}
