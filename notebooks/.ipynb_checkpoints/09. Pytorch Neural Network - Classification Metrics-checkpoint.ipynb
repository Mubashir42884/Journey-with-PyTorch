{
 "cells": [
  {
   "cell_type": "markdown",
   "id": "c7aad9cf",
   "metadata": {},
   "source": [
    "# **CLASSIFICATION METRICS**"
   ]
  },
  {
   "cell_type": "markdown",
   "id": "bbcb3ad3",
   "metadata": {},
   "source": [
    "Evaluation metrics for classification models are often called classification metrics. Evaluating the performance of our classification model is crucial to ensure its validity and effectiveness.\n",
    "\n",
    "Along with accuracy metrics, there are a few more evaluation metrics that are as important as accuracy depending on the classification task and data we are dealing with. The most popular and often mentioned metrics are:\n",
    "\n",
    "* **ACCURACY**\n",
    "* **PRECISION**\n",
    "* **RECALL**\n",
    "* **F1-SCORE**\n",
    "* **CONFUSION MATRIX**\n",
    "* **CLASSIFICATION REPORT**\n",
    "\n",
    "We will cover these metrics one by one with detailed explanations and then see these in action with a simple classification model evaluation with torchmetrics the `torchmetrics` library."
   ]
  },
  {
   "cell_type": "code",
   "execution_count": null,
   "id": "51b339ae",
   "metadata": {},
   "outputs": [],
   "source": []
  },
  {
   "cell_type": "code",
   "execution_count": null,
   "id": "a35a735b",
   "metadata": {},
   "outputs": [],
   "source": []
  },
  {
   "cell_type": "code",
   "execution_count": null,
   "id": "5da3876d",
   "metadata": {},
   "outputs": [],
   "source": []
  },
  {
   "cell_type": "code",
   "execution_count": null,
   "id": "c6243f09",
   "metadata": {},
   "outputs": [],
   "source": []
  },
  {
   "cell_type": "code",
   "execution_count": null,
   "id": "81c38bc9",
   "metadata": {},
   "outputs": [],
   "source": []
  },
  {
   "cell_type": "code",
   "execution_count": null,
   "id": "53f46ad0",
   "metadata": {},
   "outputs": [],
   "source": []
  },
  {
   "cell_type": "code",
   "execution_count": null,
   "id": "27e38942",
   "metadata": {},
   "outputs": [],
   "source": []
  },
  {
   "cell_type": "code",
   "execution_count": null,
   "id": "8de8f0b3",
   "metadata": {},
   "outputs": [],
   "source": []
  },
  {
   "cell_type": "code",
   "execution_count": null,
   "id": "b7e1bd1a",
   "metadata": {},
   "outputs": [],
   "source": []
  },
  {
   "cell_type": "code",
   "execution_count": null,
   "id": "bee4d8c2",
   "metadata": {},
   "outputs": [],
   "source": []
  },
  {
   "cell_type": "code",
   "execution_count": null,
   "id": "ffd7f230",
   "metadata": {},
   "outputs": [],
   "source": []
  },
  {
   "cell_type": "code",
   "execution_count": null,
   "id": "93a8b61b",
   "metadata": {},
   "outputs": [],
   "source": []
  },
  {
   "cell_type": "code",
   "execution_count": null,
   "id": "0a798a5b",
   "metadata": {},
   "outputs": [],
   "source": []
  },
  {
   "cell_type": "markdown",
   "id": "f2051dc5",
   "metadata": {},
   "source": [
    "## Classification Metrics in Action"
   ]
  },
  {
   "cell_type": "code",
   "execution_count": 1,
   "id": "f01c8a8a",
   "metadata": {},
   "outputs": [],
   "source": [
    "# Import necessary modules and libraries\n",
    "import torch\n",
    "import torch.nn as nn\n",
    "import torch.optim as optim\n",
    "from sklearn.datasets import make_classification\n",
    "from sklearn.model_selection import train_test_split\n",
    "from torch.utils.data import DataLoader, TensorDataset\n",
    "import torchmetrics"
   ]
  },
  {
   "cell_type": "code",
   "execution_count": 2,
   "id": "1c71c625",
   "metadata": {},
   "outputs": [
    {
     "name": "stdout",
     "output_type": "stream",
     "text": [
      "Active Device: cuda\n"
     ]
    }
   ],
   "source": [
    "# Create synthetic dataset\n",
    "NUM_CLASSES = 4\n",
    "X, y = make_classification(n_samples=2000, n_features=20, n_classes=NUM_CLASSES, n_clusters_per_class=1, random_state=42)\n",
    "X_train, X_test, y_train, y_test = train_test_split(X, y, test_size=0.3, random_state=42)\n",
    "\n",
    "device = 'cuda' if torch.cuda.is_available() is True else 'cpu'\n",
    "print(f\"Active Device: {device}\")\n",
    "\n",
    "# Convert to tensors\n",
    "X_train = torch.tensor(X_train, dtype=torch.float32).to(device)\n",
    "y_train = torch.tensor(y_train, dtype=torch.long).to(device)\n",
    "X_test = torch.tensor(X_test, dtype=torch.float32).to(device)\n",
    "y_test = torch.tensor(y_test, dtype=torch.long).to(device)\n",
    "\n",
    "# Create data loaders\n",
    "train_dataset = TensorDataset(X_train, y_train)\n",
    "test_dataset = TensorDataset(X_test, y_test)\n",
    "train_loader = DataLoader(train_dataset, batch_size=32, shuffle=True)\n",
    "test_loader = DataLoader(test_dataset, batch_size=32, shuffle=False)"
   ]
  },
  {
   "cell_type": "code",
   "execution_count": 3,
   "id": "99362d25",
   "metadata": {},
   "outputs": [],
   "source": [
    "# Define the model\n",
    "class SimpleNN(nn.Module):\n",
    "    def __init__(self, input_size, hidden_size, num_classes):\n",
    "        super(SimpleNN, self).__init__()\n",
    "        self.fc1 = nn.Linear(input_size, hidden_size)\n",
    "        self.relu = nn.ReLU()\n",
    "        self.fc2 = nn.Linear(hidden_size, hidden_size)\n",
    "        self.relu = nn.ReLU()\n",
    "        self.fc3 = nn.Linear(hidden_size, num_classes)\n",
    "\n",
    "    def forward(self, x):\n",
    "        out = self.fc1(x)\n",
    "        out = self.relu(out)\n",
    "        out = self.fc2(out)\n",
    "        return out"
   ]
  },
  {
   "cell_type": "code",
   "execution_count": 4,
   "id": "bb21343f",
   "metadata": {},
   "outputs": [],
   "source": [
    "# Initialize the model, loss function, and optimizer\n",
    "input_size = 20\n",
    "hidden_size = 64\n",
    "num_classes = 2\n",
    "model = SimpleNN(input_size, hidden_size, num_classes).to(device)\n",
    "criterion = nn.CrossEntropyLoss()\n",
    "optimizer = optim.SGD(model.parameters(), lr=0.01)"
   ]
  },
  {
   "cell_type": "code",
   "execution_count": 5,
   "id": "18dd1fdc",
   "metadata": {},
   "outputs": [
    {
     "name": "stdout",
     "output_type": "stream",
     "text": [
      "Epoch [000/1000],  Loss: 3.8954\n",
      "Epoch [100/1000],  Loss: 0.4350\n",
      "Epoch [200/1000],  Loss: 0.3754\n",
      "Epoch [300/1000],  Loss: 0.3196\n",
      "Epoch [400/1000],  Loss: 0.2749\n",
      "Epoch [500/1000],  Loss: 0.2368\n",
      "Epoch [600/1000],  Loss: 0.2012\n",
      "Epoch [700/1000],  Loss: 0.1713\n",
      "Epoch [800/1000],  Loss: 0.1450\n",
      "Epoch [900/1000],  Loss: 0.1223\n"
     ]
    }
   ],
   "source": [
    "# Train the model and store loss values\n",
    "num_epochs = 1000\n",
    "loss_values = []\n",
    "\n",
    "for epoch in range(num_epochs):\n",
    "    model.train()\n",
    "    epoch_loss = 0\n",
    "    for i, (inputs, labels) in enumerate(train_loader):\n",
    "        outputs = model(inputs)\n",
    "        loss = criterion(outputs, labels)\n",
    "\n",
    "        optimizer.zero_grad()\n",
    "        loss.backward()\n",
    "        optimizer.step()\n",
    "\n",
    "        epoch_loss += loss.item()\n",
    "\n",
    "    average_loss = epoch_loss / len(train_loader)\n",
    "    loss_values.append(average_loss)\n",
    "    \n",
    "    if epoch % 100 == 0:\n",
    "        print(f\"Epoch [{epoch:03d}/{num_epochs}],  Loss: {average_loss:.4f}\")"
   ]
  },
  {
   "cell_type": "code",
   "execution_count": 6,
   "id": "7da05042",
   "metadata": {},
   "outputs": [
    {
     "data": {
      "image/png": "[encoded data removed]",
      "text/plain": [
       "<Figure size 1200x720 with 1 Axes>"
      ]
     },
     "metadata": {},
     "output_type": "display_data"
    }
   ],
   "source": [
    "# Plot the loss curve\n",
    "plt.plot(range(1, num_epochs + 1), loss_values, '--', linewidth=2)\n",
    "plt.xlabel('Epoch')\n",
    "plt.ylabel('Loss')\n",
    "plt.title('Classification Model Loss Curve')\n",
    "plt.show()"
   ]
  },
  {
   "cell_type": "code",
   "execution_count": 7,
   "id": "c7f90265",
   "metadata": {},
   "outputs": [
    {
     "name": "stdout",
     "output_type": "stream",
     "text": [
      "Accuracy: \t0.7967\n",
      "Precision: \t0.7931\n",
      "Recall: \t0.7999\n",
      "F1-Score: \t0.7944\n",
      "\n",
      "Confusion Matrix:\n",
      " tensor([[116,  11,  23,   4],\n",
      "        [  9, 145,   4,   0],\n",
      "        [ 22,   4,  99,  31],\n",
      "        [  1,   3,  10, 118]])\n",
      "\n",
      "Classification Report:\n",
      "               precision    recall  f1-score   support\n",
      "\n",
      "     Class 0       0.78      0.75      0.77       154\n",
      "     Class 1       0.89      0.92      0.90       158\n",
      "     Class 2       0.73      0.63      0.68       156\n",
      "     Class 3       0.77      0.89      0.83       132\n",
      "\n",
      "    accuracy                           0.80       600\n",
      "   macro avg       0.79      0.80      0.79       600\n",
      "weighted avg       0.79      0.80      0.79       600\n",
      "\n"
     ]
    }
   ],
   "source": [
    "from sklearn.metrics import classification_report\n",
    "\n",
    "# Evaluation\n",
    "model.eval()\n",
    "y_pred_list = []\n",
    "y_true_list = []\n",
    "\n",
    "with torch.no_grad():\n",
    "    for inputs, labels in test_loader:\n",
    "        outputs = model(inputs)\n",
    "        _, predicted = torch.max(outputs.data, 1)\n",
    "        y_pred_list.append(predicted)\n",
    "        y_true_list.append(labels)\n",
    "\n",
    "y_pred = torch.cat(y_pred_list).cpu()\n",
    "y_true = torch.cat(y_true_list).cpu()\n",
    "\n",
    "# Metrics\n",
    "accuracy = torchmetrics.functional.accuracy(y_pred, y_true, task=\"multiclass\", num_classes=NUM_CLASSES)\n",
    "precision = torchmetrics.functional.precision(y_pred, y_true, average='macro', num_classes=NUM_CLASSES, task=\"multiclass\")\n",
    "recall = torchmetrics.functional.recall(y_pred, y_true, average='macro', num_classes=NUM_CLASSES, task=\"multiclass\")\n",
    "f1_score = torchmetrics.functional.f1_score(y_pred, y_true, average='macro', num_classes=NUM_CLASSES, task=\"multiclass\")\n",
    "confusion_matrix = torchmetrics.functional.confusion_matrix(y_pred, y_true, num_classes=NUM_CLASSES, task=\"multiclass\")\n",
    "\n",
    "# Classification report using sklearn\n",
    "report = classification_report(y_true.numpy(), y_pred.numpy(), target_names=['Class 0', 'Class 1', 'Class 2', 'Class 3'])\n",
    "\n",
    "print(f\"Accuracy: \\t{accuracy:.4f}\")\n",
    "print(f\"Precision: \\t{precision:.4f}\")\n",
    "print(f\"Recall: \\t{recall:.4f}\")\n",
    "print(f\"F1-Score: \\t{f1_score:.4f}\")\n",
    "print(f\"\\nConfusion Matrix:\\n {confusion_matrix}\")\n",
    "print(f\"\\nClassification Report:\\n {report}\")"
   ]
  }
 ],
 "metadata": {
  "kernelspec": {
   "display_name": "Pytorch (CUDA)",
   "language": "python",
   "name": "pytorch"
  },
  "language_info": {
   "codemirror_mode": {
    "name": "ipython",
    "version": 3
   },
   "file_extension": ".py",
   "mimetype": "text/x-python",
   "name": "python",
   "nbconvert_exporter": "python",
   "pygments_lexer": "ipython3",
   "version": "3.9.20"
  }
 },
 "nbformat": 4,
 "nbformat_minor": 5
}
