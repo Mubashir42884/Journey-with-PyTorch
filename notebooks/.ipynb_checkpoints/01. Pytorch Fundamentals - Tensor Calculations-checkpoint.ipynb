{
 "cells": [
  {
   "cell_type": "markdown",
   "metadata": {},
   "source": [
    "# Tensor Calculations\n",
    "\n",
    "## **Topics to be covered:**\n",
    "- Tensor Manipulation\n",
    "- Tensor Arithmatics\n",
    "- Tensor Linear Algebra </br>\n",
    "    |__ Matrix Multiplication </br>\n",
    "    |__ Dot Product </br>\n",
    "    |__ Transpose </br>\n",
    "    |__ Inverse and Determinant </br>\n",
    "    |__ Eigenvalues & Eigenvectors </br>\n",
    "    |__ Norms (L1 & L2) </br>"
   ]
  },
  {
   "cell_type": "markdown",
   "metadata": {},
   "source": [
    "#### TENSOR MANIPULATION"
   ]
  },
  {
   "cell_type": "code",
   "execution_count": 1,
   "metadata": {},
   "outputs": [],
   "source": [
    "import torch\n",
    "import numpy as np\n",
    "import pandas as pd"
   ]
  },
  {
   "cell_type": "code",
   "execution_count": 2,
   "metadata": {},
   "outputs": [
    {
     "name": "stdout",
     "output_type": "stream",
     "text": [
      "List Data:\n",
      "[[1, 2], [3, 4]]\n",
      "\n",
      "Tensor Data:\n",
      "tensor([[1, 2],\n",
      "        [3, 4]])\n"
     ]
    }
   ],
   "source": [
    "# Tensor Manipulation - Lists\n",
    "\n",
    "# List to Tensor\n",
    "list_data = [[1, 2], [3, 4]]\n",
    "tensor = torch.tensor(list_data)\n",
    "print(f\"List Data:\\n{list_data}\\n\")\n",
    "print(f\"Tensor Data:\\n{tensor}\")"
   ]
  },
  {
   "cell_type": "code",
   "execution_count": 3,
   "metadata": {},
   "outputs": [
    {
     "name": "stdout",
     "output_type": "stream",
     "text": [
      "Tensor Data:\n",
      "tensor([[0.2407, 0.3465],\n",
      "        [0.2145, 0.3272]])\n",
      "\n",
      "List Data:\n",
      "[[0.24074888229370117, 0.34645724296569824], [0.21449464559555054, 0.3272463083267212]]\n"
     ]
    }
   ],
   "source": [
    "# Tensor to List\n",
    "tensor = torch.rand(2,2)\n",
    "list_data = tensor.tolist()\n",
    "print(f\"Tensor Data:\\n{tensor}\\n\")\n",
    "print(f\"List Data:\\n{list_data}\")"
   ]
  },
  {
   "cell_type": "markdown",
   "metadata": {},
   "source": [
    "### Tensor Manipulation - Dataframes"
   ]
  },
  {
   "cell_type": "code",
   "execution_count": 4,
   "metadata": {},
   "outputs": [
    {
     "name": "stdout",
     "output_type": "stream",
     "text": [
      "Tensor Data:\n",
      "tensor([[0.8894, 0.1959, 0.6983, 0.9591],\n",
      "        [0.9778, 0.1405, 0.8069, 0.3835],\n",
      "        [0.2220, 0.1153, 0.3623, 0.2580]])\n",
      "\n",
      "Dataframe Data:\n",
      "          0         1         2         3\n",
      "0  0.889438  0.195878  0.698327  0.959148\n",
      "1  0.977833  0.140485  0.806937  0.383456\n",
      "2  0.222002  0.115320  0.362309  0.257963\n"
     ]
    }
   ],
   "source": [
    "# Tensor to Dataframe\n",
    "tensor =  torch.rand(3,4)\n",
    "df = pd.DataFrame(tensor.numpy())\n",
    "\n",
    "print(f\"Tensor Data:\\n{tensor}\\n\")\n",
    "print(f\"Dataframe Data:\\n{df}\")"
   ]
  },
  {
   "cell_type": "code",
   "execution_count": 5,
   "metadata": {},
   "outputs": [
    {
     "name": "stdout",
     "output_type": "stream",
     "text": [
      "Dataframe Data:\n",
      "          0         1         2         3\n",
      "0  0.304831  0.832649  0.057072  0.825872\n",
      "1  0.396778  0.388671  0.385509  0.298767\n",
      "2  0.498519  0.909531  0.095675  0.393535\n",
      "\n",
      "Tensor Data:\n",
      "tensor([[0.3048, 0.8326, 0.0571, 0.8259],\n",
      "        [0.3968, 0.3887, 0.3855, 0.2988],\n",
      "        [0.4985, 0.9095, 0.0957, 0.3935]], dtype=torch.float64)\n"
     ]
    }
   ],
   "source": [
    "# Dataframe to Tensor\n",
    "df = pd.DataFrame(np.random.rand(3,4))\n",
    "tensor = torch.tensor(df.values)\n",
    "\n",
    "print(f\"Dataframe Data:\\n{df}\\n\")\n",
    "print(f\"Tensor Data:\\n{tensor}\")"
   ]
  },
  {
   "cell_type": "code",
   "execution_count": 6,
   "metadata": {},
   "outputs": [
    {
     "name": "stdout",
     "output_type": "stream",
     "text": [
      "Tensor Data:\n",
      "tensor([[0.3531, 0.3652, 0.8653, 0.2053],\n",
      "        [0.3708, 0.0085, 0.2449, 0.9669],\n",
      "        [0.1388, 0.3935, 0.2424, 0.8254]])\n",
      "\n",
      "NumPy Data:\n",
      "[[0.35308272 0.36524785 0.86526537 0.20528805]\n",
      " [0.37084812 0.00851655 0.2449314  0.9668612 ]\n",
      " [0.13884026 0.3934604  0.24240893 0.82544136]]\n"
     ]
    }
   ],
   "source": [
    "# Tensor Manipulation - Numpy\n",
    "\n",
    "# Tensor to Numpy\n",
    "tensor = torch.rand(3,4)\n",
    "np_data = tensor.numpy()\n",
    "\n",
    "print(f\"Tensor Data:\\n{tensor}\\n\")\n",
    "print(f\"NumPy Data:\\n{np_data}\")"
   ]
  },
  {
   "cell_type": "code",
   "execution_count": 7,
   "metadata": {},
   "outputs": [
    {
     "name": "stdout",
     "output_type": "stream",
     "text": [
      "NumPy Data:\n",
      "[[0.07379421 0.44943514 0.20717796 0.44930725]\n",
      " [0.36447893 0.3816306  0.18031801 0.67098131]\n",
      " [0.11227019 0.11760966 0.45470355 0.05539829]]\n",
      "\n",
      "Tensor Data:\n",
      "tensor([[0.0738, 0.4494, 0.2072, 0.4493],\n",
      "        [0.3645, 0.3816, 0.1803, 0.6710],\n",
      "        [0.1123, 0.1176, 0.4547, 0.0554]], dtype=torch.float64)\n"
     ]
    }
   ],
   "source": [
    "# Numpy to Tensor\n",
    "np_data = np.random.rand(3,4)\n",
    "tensor = torch.tensor(np_data)\n",
    "\n",
    "print(f\"NumPy Data:\\n{np_data}\\n\")\n",
    "print(f\"Tensor Data:\\n{tensor}\")"
   ]
  },
  {
   "cell_type": "markdown",
   "metadata": {},
   "source": [
    "#### TENSOR ARITHMATICS"
   ]
  },
  {
   "cell_type": "code",
   "execution_count": 8,
   "metadata": {},
   "outputs": [
    {
     "data": {
      "text/plain": [
       "tensor([102, 105, 103])"
      ]
     },
     "execution_count": 8,
     "metadata": {},
     "output_type": "execute_result"
    }
   ],
   "source": [
    "# Addition\n",
    "\n",
    "tensor = torch.tensor([2,5,3])\n",
    "tensor+100"
   ]
  },
  {
   "cell_type": "code",
   "execution_count": 9,
   "metadata": {},
   "outputs": [
    {
     "data": {
      "text/plain": [
       "tensor([10, 25, 15])"
      ]
     },
     "execution_count": 9,
     "metadata": {},
     "output_type": "execute_result"
    }
   ],
   "source": [
    "# Multiplication\n",
    "\n",
    "tensor = tensor * 5\n",
    "tensor"
   ]
  },
  {
   "cell_type": "code",
   "execution_count": 10,
   "metadata": {},
   "outputs": [
    {
     "data": {
      "text/plain": [
       "tensor([-40, -25, -35])"
      ]
     },
     "execution_count": 10,
     "metadata": {},
     "output_type": "execute_result"
    }
   ],
   "source": [
    "# Subtraction\n",
    "\n",
    "tensor = tensor - 50\n",
    "tensor"
   ]
  },
  {
   "cell_type": "code",
   "execution_count": 11,
   "metadata": {},
   "outputs": [
    {
     "data": {
      "text/plain": [
       "tensor([-2.0000, -1.2500, -1.7500])"
      ]
     },
     "execution_count": 11,
     "metadata": {},
     "output_type": "execute_result"
    }
   ],
   "source": [
    "# Division\n",
    "\n",
    "tensor = tensor / 20\n",
    "tensor"
   ]
  },
  {
   "cell_type": "code",
   "execution_count": 12,
   "metadata": {},
   "outputs": [
    {
     "name": "stdout",
     "output_type": "stream",
     "text": [
      "In-build Multiplication:\n",
      "tensor([30, 75, 45])\n",
      "\n",
      "In-build Addition:\n",
      "tensor([130, 175, 145])\n",
      "\n",
      "In-build Subtraction:\n",
      "tensor([ 80, 125,  95])\n",
      "\n",
      "In-build Division:\n",
      "tensor([4.0000, 6.2500, 4.7500])\n"
     ]
    }
   ],
   "source": [
    "# PyTorch In-build\n",
    "\n",
    "tensor = torch.tensor([2,5,3])\n",
    "\n",
    "tensor = torch.mul(tensor, 15)\n",
    "print(f\"In-build Multiplication:\\n{tensor}\")\n",
    "tensor = torch.add(tensor, 100)\n",
    "print(f\"\\nIn-build Addition:\\n{tensor}\")\n",
    "tensor = torch.sub(tensor, 50)\n",
    "print(f\"\\nIn-build Subtraction:\\n{tensor}\")\n",
    "tensor = torch.div(tensor, 20)\n",
    "print(f\"\\nIn-build Division:\\n{tensor}\")"
   ]
  },
  {
   "cell_type": "markdown",
   "metadata": {},
   "source": [
    "<h1 align=\"center\">--< THE END >--</h1> \n",
    "@MUBA"
   ]
  }
 ],
 "metadata": {
  "kernelspec": {
   "display_name": "NLP GPU",
   "language": "python",
   "name": "nlp"
  },
  "language_info": {
   "codemirror_mode": {
    "name": "ipython",
    "version": 3
   },
   "file_extension": ".py",
   "mimetype": "text/x-python",
   "name": "python",
   "nbconvert_exporter": "python",
   "pygments_lexer": "ipython3",
   "version": "3.9.20"
  }
 },
 "nbformat": 4,
 "nbformat_minor": 2
}
