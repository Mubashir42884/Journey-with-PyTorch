{
 "cells": [
  {
   "cell_type": "markdown",
   "id": "a54e12c2",
   "metadata": {},
   "source": [
    "# **COMPUTER VISION - INTRODUCTION**"
   ]
  },
  {
   "cell_type": "markdown",
   "id": "0d5171f8",
   "metadata": {},
   "source": [
    "### What is a Computer Vision Problem?\n",
    "\n",
    "A computer vision problem involves tasks or challenges where computers are trained to interpret, understand, and analyze visual information (such as images or videos) from the world. These problems aim to enable machines to be able to \"SEE\" and make decisions based on visual data, mimicking human vision capabilities.\n",
    "\n",
    "\n",
    "### What are the types of Computer Vision Problems?\n",
    "\n",
    "Examples of computer vision problems include:\n",
    "* **Image Classification:** Categorizing an image into predefined categories (e.g., determining if an image is of a cat or a dog).\n",
    "* **Object Detection:** Identifying specific objects (like cars, animals, or people) within images or videos.\n",
    "* **Biometric Recognition:** Identifying or verifying individuals based on facial features.\n",
    "* **Image Segmentation:** Dividing an image into distinct regions or objects (e.g., separating a background from a foreground).\n",
    "* **Optical Character Recognition (OCR):** Extracting text from images or scanned documents.\n",
    "* **Activity Recognition:** Understanding and identifying human activities in videos.\n",
    "* **3D Reconstruction:** Creating three-dimensional models of objects or scenes from 2D images.\n",
    "</br>\n",
    "<img src=\"../resources/Types_of_CV_Tasks.png\"></img>\n",
    "</br></br>"
   ]
  },
  {
   "cell_type": "markdown",
   "id": "09862bd8",
   "metadata": {},
   "source": [
    "### What makes Computer Vision efficient?\n",
    "\n",
    "Convolutional Neural Networks (CNNs). These are a type of special Neural Networks architecture particularly designed to handle image data effectively and efficiently.\n",
    "\n",
    "The reasons behind CNNs to be powerful are:\n",
    "\n",
    "1. **Feature Extraction with Convolution Layers:** CNNs use convolution layers that automatically detect and extract important features from an image, such as edges, textures, shapes, and more. This eliminates the need for manual feature engineering, saving time and effort.\n",
    "\n",
    "\n",
    "2. **Spatial Hierarchy of Features:** By using multiple layers, CNNs first capture simple patterns like edges and corners. As the network goes deeper, it identifies more complex patterns, such as objects or faces, creating a hierarchy of features.\n",
    "\n",
    "\n",
    "3. **Parameter Sharing and Sparsity:** Convolutional layers use the same filters (kernels) across different parts of an image. This reduces the number of parameters significantly, making CNNs computationally efficient and less prone to overfitting.\n",
    "\n",
    "\n",
    "4. **Pooling Layers:** These layers reduce the spatial dimensions of images while retaining important information, further optimizing computations and reducing data complexity.\n",
    "\n",
    "\n",
    "5. **Translation Invariance:** CNNs are designed to recognize objects regardless of their position in the image. This makes them highly robust for tasks like object detection and classification."
   ]
  },
  {
   "cell_type": "markdown",
   "id": "2b24e438",
   "metadata": {},
   "source": [
    "## What is a Convolutional Neural Network?\n",
    "\n",
    "A Convolutional Neural Network (CNN) is a type of deep learning algorithm specifically designed for processing structured grid-like data, such as images.\n",
    "\n",
    "</br>\n",
    "\n",
    "### Key Components of a CNN\n",
    "\n",
    "##### 1. **Convolutional Layer** \n",
    "* This is the core building block of a CNN. \n",
    "* It **applies filters (kernels)** to the input image to detect specific features, such as edges, patterns, or textures. \n",
    "* The result is a **set of feature maps** that highlight important parts of the image.\n",
    "\n",
    "##### 2. **ReLU (Rectified Linear Unit) Activation**\n",
    "Introduced after the convolutional layer, ReLU **removes negative values from the feature maps to add non-linearity** to the model, enabling it to learn complex patterns.\n",
    "\n",
    "##### 3. **Pooling Layer**\n",
    "* This layer **reduces the spatial dimensions** of feature maps while retaining important information.\n",
    "* Common pooling methods include **max pooling** (selecting the maximum value in a region) and **average pooling** (calculating the average value).\n",
    "\n",
    "##### 4. **Fully Connected Layer**\n",
    "At the final stage of the network, these layers **flatten the feature maps into a vector** and make predictions, such as classifying images into categories.\n",
    "\n",
    "##### 5. **Softmax or Sigmoid Function**\n",
    "This function converts the **final output into probabilities**, useful for classification tasks.\n",
    "\n",
    "</br>\n",
    "<img src=\"../resources/CNN_Architecture.png\"></img>"
   ]
  },
  {
   "cell_type": "markdown",
   "id": "6f025c46",
   "metadata": {},
   "source": [
    "### Learning Computer Vision Basics\n",
    "\n",
    "1. Pytorch Computer Vision Library `torchvision`"
   ]
  },
  {
   "cell_type": "code",
   "execution_count": null,
   "id": "3dbb78b0",
   "metadata": {},
   "outputs": [],
   "source": []
  },
  {
   "cell_type": "code",
   "execution_count": null,
   "id": "bf9f7411",
   "metadata": {},
   "outputs": [],
   "source": []
  },
  {
   "cell_type": "code",
   "execution_count": null,
   "id": "b27f2bb2",
   "metadata": {},
   "outputs": [],
   "source": []
  },
  {
   "cell_type": "code",
   "execution_count": null,
   "id": "78c39d06",
   "metadata": {},
   "outputs": [],
   "source": []
  },
  {
   "cell_type": "code",
   "execution_count": null,
   "id": "ff1bbbe5",
   "metadata": {},
   "outputs": [],
   "source": []
  },
  {
   "cell_type": "code",
   "execution_count": null,
   "id": "daad81c3",
   "metadata": {},
   "outputs": [],
   "source": []
  },
  {
   "cell_type": "code",
   "execution_count": null,
   "id": "e83bcd4f",
   "metadata": {},
   "outputs": [],
   "source": []
  },
  {
   "cell_type": "code",
   "execution_count": null,
   "id": "62afb45b",
   "metadata": {},
   "outputs": [],
   "source": []
  },
  {
   "cell_type": "code",
   "execution_count": null,
   "id": "57249ba7",
   "metadata": {},
   "outputs": [],
   "source": []
  },
  {
   "cell_type": "code",
   "execution_count": null,
   "id": "43e21ade",
   "metadata": {},
   "outputs": [],
   "source": []
  },
  {
   "cell_type": "code",
   "execution_count": null,
   "id": "643f8a48",
   "metadata": {},
   "outputs": [],
   "source": []
  },
  {
   "cell_type": "code",
   "execution_count": null,
   "id": "c3d09967",
   "metadata": {},
   "outputs": [],
   "source": []
  },
  {
   "cell_type": "code",
   "execution_count": null,
   "id": "16aba712",
   "metadata": {},
   "outputs": [],
   "source": []
  },
  {
   "cell_type": "code",
   "execution_count": null,
   "id": "90d35ecd",
   "metadata": {},
   "outputs": [],
   "source": []
  },
  {
   "cell_type": "code",
   "execution_count": null,
   "id": "23e3ba58",
   "metadata": {},
   "outputs": [],
   "source": []
  },
  {
   "cell_type": "code",
   "execution_count": null,
   "id": "45b6214a",
   "metadata": {},
   "outputs": [],
   "source": []
  },
  {
   "cell_type": "code",
   "execution_count": null,
   "id": "33fb258a",
   "metadata": {},
   "outputs": [],
   "source": []
  },
  {
   "cell_type": "code",
   "execution_count": null,
   "id": "ac0b25df",
   "metadata": {},
   "outputs": [],
   "source": []
  },
  {
   "cell_type": "code",
   "execution_count": null,
   "id": "ce4d5960",
   "metadata": {},
   "outputs": [],
   "source": []
  },
  {
   "cell_type": "code",
   "execution_count": null,
   "id": "eef67f9b",
   "metadata": {},
   "outputs": [],
   "source": []
  },
  {
   "cell_type": "code",
   "execution_count": null,
   "id": "5feee4db",
   "metadata": {},
   "outputs": [],
   "source": []
  },
  {
   "cell_type": "code",
   "execution_count": null,
   "id": "763b9c6d",
   "metadata": {},
   "outputs": [],
   "source": []
  },
  {
   "cell_type": "code",
   "execution_count": null,
   "id": "053fc42c",
   "metadata": {},
   "outputs": [],
   "source": []
  },
  {
   "cell_type": "code",
   "execution_count": null,
   "id": "d6930e08",
   "metadata": {},
   "outputs": [],
   "source": []
  },
  {
   "cell_type": "code",
   "execution_count": null,
   "id": "2de4d45e",
   "metadata": {},
   "outputs": [],
   "source": []
  },
  {
   "cell_type": "code",
   "execution_count": null,
   "id": "21c47dd3",
   "metadata": {},
   "outputs": [],
   "source": []
  },
  {
   "cell_type": "code",
   "execution_count": null,
   "id": "304d55ba",
   "metadata": {},
   "outputs": [],
   "source": []
  }
 ],
 "metadata": {
  "kernelspec": {
   "display_name": "Pytorch (CUDA)",
   "language": "python",
   "name": "pytorch"
  },
  "language_info": {
   "codemirror_mode": {
    "name": "ipython",
    "version": 3
   },
   "file_extension": ".py",
   "mimetype": "text/x-python",
   "name": "python",
   "nbconvert_exporter": "python",
   "pygments_lexer": "ipython3",
   "version": "3.9.20"
  }
 },
 "nbformat": 4,
 "nbformat_minor": 5
}
